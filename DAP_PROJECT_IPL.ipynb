{
 "cells": [
  {
   "cell_type": "markdown",
   "id": "06bff425",
   "metadata": {},
   "source": [
    "# IPL Data Analysis\n"
   ]
  },
  {
   "cell_type": "markdown",
   "id": "d8843f74-1ff5-4022-a286-fe5defd14a66",
   "metadata": {},
   "source": [
    "### Done by:- Bestha Sahana(1RVU23CSE106),Anushka R Rao(1RVU23CSE068),Ananya M(1RVU23CSE050),Anmol B Rao(1RVU23CSE062)"
   ]
  },
  {
   "cell_type": "markdown",
   "id": "a3513d8a",
   "metadata": {},
   "source": [
    "![IPL](https://images.hindustantimes.com/img/2021/04/04/550x309/EuftEXXUcAEnB1w_1614333477123_1614333484953_1617504330094.jfif)"
   ]
  },
  {
   "cell_type": "code",
   "execution_count": 70,
   "id": "776158b1",
   "metadata": {
    "tags": []
   },
   "outputs": [],
   "source": [
    "import numpy as np\n",
    "import pandas as pd\n",
    "import matplotlib.pyplot as plt\n",
    "import seaborn as sns"
   ]
  },
  {
   "cell_type": "code",
   "execution_count": 71,
   "id": "3843a26e",
   "metadata": {
    "tags": []
   },
   "outputs": [],
   "source": [
    "match_data=pd.read_csv(\"IPL Matches 2008-2020.csv\")\n",
    "ball_data=pd.read_csv(\"IPL Ball-by-Ball 2008-2020.csv\")"
   ]
  },
  {
   "cell_type": "code",
   "execution_count": 4,
   "id": "d86b3f60",
   "metadata": {},
   "outputs": [
    {
     "data": {
      "text/html": [
       "<div>\n",
       "<style scoped>\n",
       "    .dataframe tbody tr th:only-of-type {\n",
       "        vertical-align: middle;\n",
       "    }\n",
       "\n",
       "    .dataframe tbody tr th {\n",
       "        vertical-align: top;\n",
       "    }\n",
       "\n",
       "    .dataframe thead th {\n",
       "        text-align: right;\n",
       "    }\n",
       "</style>\n",
       "<table border=\"1\" class=\"dataframe\">\n",
       "  <thead>\n",
       "    <tr style=\"text-align: right;\">\n",
       "      <th></th>\n",
       "      <th>id</th>\n",
       "      <th>city</th>\n",
       "      <th>date</th>\n",
       "      <th>player_of_match</th>\n",
       "      <th>venue</th>\n",
       "      <th>neutral_venue</th>\n",
       "      <th>team1</th>\n",
       "      <th>team2</th>\n",
       "      <th>toss_winner</th>\n",
       "      <th>toss_decision</th>\n",
       "      <th>winner</th>\n",
       "      <th>result</th>\n",
       "      <th>result_margin</th>\n",
       "      <th>eliminator</th>\n",
       "      <th>method</th>\n",
       "      <th>umpire1</th>\n",
       "      <th>umpire2</th>\n",
       "    </tr>\n",
       "  </thead>\n",
       "  <tbody>\n",
       "    <tr>\n",
       "      <th>0</th>\n",
       "      <td>335982</td>\n",
       "      <td>Bangalore</td>\n",
       "      <td>2008-04-18</td>\n",
       "      <td>BB McCullum</td>\n",
       "      <td>M Chinnaswamy Stadium</td>\n",
       "      <td>0</td>\n",
       "      <td>Royal Challengers Bangalore</td>\n",
       "      <td>Kolkata Knight Riders</td>\n",
       "      <td>Royal Challengers Bangalore</td>\n",
       "      <td>field</td>\n",
       "      <td>Kolkata Knight Riders</td>\n",
       "      <td>runs</td>\n",
       "      <td>140.0</td>\n",
       "      <td>N</td>\n",
       "      <td>NaN</td>\n",
       "      <td>Asad Rauf</td>\n",
       "      <td>RE Koertzen</td>\n",
       "    </tr>\n",
       "    <tr>\n",
       "      <th>1</th>\n",
       "      <td>335983</td>\n",
       "      <td>Chandigarh</td>\n",
       "      <td>2008-04-19</td>\n",
       "      <td>MEK Hussey</td>\n",
       "      <td>Punjab Cricket Association Stadium, Mohali</td>\n",
       "      <td>0</td>\n",
       "      <td>Kings XI Punjab</td>\n",
       "      <td>Chennai Super Kings</td>\n",
       "      <td>Chennai Super Kings</td>\n",
       "      <td>bat</td>\n",
       "      <td>Chennai Super Kings</td>\n",
       "      <td>runs</td>\n",
       "      <td>33.0</td>\n",
       "      <td>N</td>\n",
       "      <td>NaN</td>\n",
       "      <td>MR Benson</td>\n",
       "      <td>SL Shastri</td>\n",
       "    </tr>\n",
       "    <tr>\n",
       "      <th>2</th>\n",
       "      <td>335984</td>\n",
       "      <td>Delhi</td>\n",
       "      <td>2008-04-19</td>\n",
       "      <td>MF Maharoof</td>\n",
       "      <td>Feroz Shah Kotla</td>\n",
       "      <td>0</td>\n",
       "      <td>Delhi Daredevils</td>\n",
       "      <td>Rajasthan Royals</td>\n",
       "      <td>Rajasthan Royals</td>\n",
       "      <td>bat</td>\n",
       "      <td>Delhi Daredevils</td>\n",
       "      <td>wickets</td>\n",
       "      <td>9.0</td>\n",
       "      <td>N</td>\n",
       "      <td>NaN</td>\n",
       "      <td>Aleem Dar</td>\n",
       "      <td>GA Pratapkumar</td>\n",
       "    </tr>\n",
       "    <tr>\n",
       "      <th>3</th>\n",
       "      <td>335985</td>\n",
       "      <td>Mumbai</td>\n",
       "      <td>2008-04-20</td>\n",
       "      <td>MV Boucher</td>\n",
       "      <td>Wankhede Stadium</td>\n",
       "      <td>0</td>\n",
       "      <td>Mumbai Indians</td>\n",
       "      <td>Royal Challengers Bangalore</td>\n",
       "      <td>Mumbai Indians</td>\n",
       "      <td>bat</td>\n",
       "      <td>Royal Challengers Bangalore</td>\n",
       "      <td>wickets</td>\n",
       "      <td>5.0</td>\n",
       "      <td>N</td>\n",
       "      <td>NaN</td>\n",
       "      <td>SJ Davis</td>\n",
       "      <td>DJ Harper</td>\n",
       "    </tr>\n",
       "    <tr>\n",
       "      <th>4</th>\n",
       "      <td>335986</td>\n",
       "      <td>Kolkata</td>\n",
       "      <td>2008-04-20</td>\n",
       "      <td>DJ Hussey</td>\n",
       "      <td>Eden Gardens</td>\n",
       "      <td>0</td>\n",
       "      <td>Kolkata Knight Riders</td>\n",
       "      <td>Deccan Chargers</td>\n",
       "      <td>Deccan Chargers</td>\n",
       "      <td>bat</td>\n",
       "      <td>Kolkata Knight Riders</td>\n",
       "      <td>wickets</td>\n",
       "      <td>5.0</td>\n",
       "      <td>N</td>\n",
       "      <td>NaN</td>\n",
       "      <td>BF Bowden</td>\n",
       "      <td>K Hariharan</td>\n",
       "    </tr>\n",
       "  </tbody>\n",
       "</table>\n",
       "</div>"
      ],
      "text/plain": [
       "       id        city        date player_of_match  \\\n",
       "0  335982   Bangalore  2008-04-18     BB McCullum   \n",
       "1  335983  Chandigarh  2008-04-19      MEK Hussey   \n",
       "2  335984       Delhi  2008-04-19     MF Maharoof   \n",
       "3  335985      Mumbai  2008-04-20      MV Boucher   \n",
       "4  335986     Kolkata  2008-04-20       DJ Hussey   \n",
       "\n",
       "                                        venue  neutral_venue  \\\n",
       "0                       M Chinnaswamy Stadium              0   \n",
       "1  Punjab Cricket Association Stadium, Mohali              0   \n",
       "2                            Feroz Shah Kotla              0   \n",
       "3                            Wankhede Stadium              0   \n",
       "4                                Eden Gardens              0   \n",
       "\n",
       "                         team1                        team2  \\\n",
       "0  Royal Challengers Bangalore        Kolkata Knight Riders   \n",
       "1              Kings XI Punjab          Chennai Super Kings   \n",
       "2             Delhi Daredevils             Rajasthan Royals   \n",
       "3               Mumbai Indians  Royal Challengers Bangalore   \n",
       "4        Kolkata Knight Riders              Deccan Chargers   \n",
       "\n",
       "                   toss_winner toss_decision                       winner  \\\n",
       "0  Royal Challengers Bangalore         field        Kolkata Knight Riders   \n",
       "1          Chennai Super Kings           bat          Chennai Super Kings   \n",
       "2             Rajasthan Royals           bat             Delhi Daredevils   \n",
       "3               Mumbai Indians           bat  Royal Challengers Bangalore   \n",
       "4              Deccan Chargers           bat        Kolkata Knight Riders   \n",
       "\n",
       "    result  result_margin eliminator method    umpire1         umpire2  \n",
       "0     runs          140.0          N    NaN  Asad Rauf     RE Koertzen  \n",
       "1     runs           33.0          N    NaN  MR Benson      SL Shastri  \n",
       "2  wickets            9.0          N    NaN  Aleem Dar  GA Pratapkumar  \n",
       "3  wickets            5.0          N    NaN   SJ Davis       DJ Harper  \n",
       "4  wickets            5.0          N    NaN  BF Bowden     K Hariharan  "
      ]
     },
     "execution_count": 4,
     "metadata": {},
     "output_type": "execute_result"
    }
   ],
   "source": [
    "match_data.head()"
   ]
  },
  {
   "cell_type": "code",
   "execution_count": 5,
   "id": "299b5724",
   "metadata": {},
   "outputs": [
    {
     "data": {
      "text/html": [
       "<div>\n",
       "<style scoped>\n",
       "    .dataframe tbody tr th:only-of-type {\n",
       "        vertical-align: middle;\n",
       "    }\n",
       "\n",
       "    .dataframe tbody tr th {\n",
       "        vertical-align: top;\n",
       "    }\n",
       "\n",
       "    .dataframe thead th {\n",
       "        text-align: right;\n",
       "    }\n",
       "</style>\n",
       "<table border=\"1\" class=\"dataframe\">\n",
       "  <thead>\n",
       "    <tr style=\"text-align: right;\">\n",
       "      <th></th>\n",
       "      <th>id</th>\n",
       "      <th>inning</th>\n",
       "      <th>over</th>\n",
       "      <th>ball</th>\n",
       "      <th>batsman</th>\n",
       "      <th>non_striker</th>\n",
       "      <th>bowler</th>\n",
       "      <th>batsman_runs</th>\n",
       "      <th>extra_runs</th>\n",
       "      <th>total_runs</th>\n",
       "      <th>non_boundary</th>\n",
       "      <th>is_wicket</th>\n",
       "      <th>dismissal_kind</th>\n",
       "      <th>player_dismissed</th>\n",
       "      <th>fielder</th>\n",
       "      <th>extras_type</th>\n",
       "      <th>batting_team</th>\n",
       "      <th>bowling_team</th>\n",
       "    </tr>\n",
       "  </thead>\n",
       "  <tbody>\n",
       "    <tr>\n",
       "      <th>0</th>\n",
       "      <td>335982</td>\n",
       "      <td>1</td>\n",
       "      <td>6</td>\n",
       "      <td>5</td>\n",
       "      <td>RT Ponting</td>\n",
       "      <td>BB McCullum</td>\n",
       "      <td>AA Noffke</td>\n",
       "      <td>1</td>\n",
       "      <td>0</td>\n",
       "      <td>1</td>\n",
       "      <td>0</td>\n",
       "      <td>0</td>\n",
       "      <td>NaN</td>\n",
       "      <td>NaN</td>\n",
       "      <td>NaN</td>\n",
       "      <td>NaN</td>\n",
       "      <td>Kolkata Knight Riders</td>\n",
       "      <td>Royal Challengers Bangalore</td>\n",
       "    </tr>\n",
       "    <tr>\n",
       "      <th>1</th>\n",
       "      <td>335982</td>\n",
       "      <td>1</td>\n",
       "      <td>6</td>\n",
       "      <td>6</td>\n",
       "      <td>BB McCullum</td>\n",
       "      <td>RT Ponting</td>\n",
       "      <td>AA Noffke</td>\n",
       "      <td>1</td>\n",
       "      <td>0</td>\n",
       "      <td>1</td>\n",
       "      <td>0</td>\n",
       "      <td>0</td>\n",
       "      <td>NaN</td>\n",
       "      <td>NaN</td>\n",
       "      <td>NaN</td>\n",
       "      <td>NaN</td>\n",
       "      <td>Kolkata Knight Riders</td>\n",
       "      <td>Royal Challengers Bangalore</td>\n",
       "    </tr>\n",
       "    <tr>\n",
       "      <th>2</th>\n",
       "      <td>335982</td>\n",
       "      <td>1</td>\n",
       "      <td>7</td>\n",
       "      <td>1</td>\n",
       "      <td>BB McCullum</td>\n",
       "      <td>RT Ponting</td>\n",
       "      <td>Z Khan</td>\n",
       "      <td>0</td>\n",
       "      <td>0</td>\n",
       "      <td>0</td>\n",
       "      <td>0</td>\n",
       "      <td>0</td>\n",
       "      <td>NaN</td>\n",
       "      <td>NaN</td>\n",
       "      <td>NaN</td>\n",
       "      <td>NaN</td>\n",
       "      <td>Kolkata Knight Riders</td>\n",
       "      <td>Royal Challengers Bangalore</td>\n",
       "    </tr>\n",
       "    <tr>\n",
       "      <th>3</th>\n",
       "      <td>335982</td>\n",
       "      <td>1</td>\n",
       "      <td>7</td>\n",
       "      <td>2</td>\n",
       "      <td>BB McCullum</td>\n",
       "      <td>RT Ponting</td>\n",
       "      <td>Z Khan</td>\n",
       "      <td>1</td>\n",
       "      <td>0</td>\n",
       "      <td>1</td>\n",
       "      <td>0</td>\n",
       "      <td>0</td>\n",
       "      <td>NaN</td>\n",
       "      <td>NaN</td>\n",
       "      <td>NaN</td>\n",
       "      <td>NaN</td>\n",
       "      <td>Kolkata Knight Riders</td>\n",
       "      <td>Royal Challengers Bangalore</td>\n",
       "    </tr>\n",
       "    <tr>\n",
       "      <th>4</th>\n",
       "      <td>335982</td>\n",
       "      <td>1</td>\n",
       "      <td>7</td>\n",
       "      <td>3</td>\n",
       "      <td>RT Ponting</td>\n",
       "      <td>BB McCullum</td>\n",
       "      <td>Z Khan</td>\n",
       "      <td>1</td>\n",
       "      <td>0</td>\n",
       "      <td>1</td>\n",
       "      <td>0</td>\n",
       "      <td>0</td>\n",
       "      <td>NaN</td>\n",
       "      <td>NaN</td>\n",
       "      <td>NaN</td>\n",
       "      <td>NaN</td>\n",
       "      <td>Kolkata Knight Riders</td>\n",
       "      <td>Royal Challengers Bangalore</td>\n",
       "    </tr>\n",
       "  </tbody>\n",
       "</table>\n",
       "</div>"
      ],
      "text/plain": [
       "       id  inning  over  ball      batsman  non_striker     bowler  \\\n",
       "0  335982       1     6     5   RT Ponting  BB McCullum  AA Noffke   \n",
       "1  335982       1     6     6  BB McCullum   RT Ponting  AA Noffke   \n",
       "2  335982       1     7     1  BB McCullum   RT Ponting     Z Khan   \n",
       "3  335982       1     7     2  BB McCullum   RT Ponting     Z Khan   \n",
       "4  335982       1     7     3   RT Ponting  BB McCullum     Z Khan   \n",
       "\n",
       "   batsman_runs  extra_runs  total_runs  non_boundary  is_wicket  \\\n",
       "0             1           0           1             0          0   \n",
       "1             1           0           1             0          0   \n",
       "2             0           0           0             0          0   \n",
       "3             1           0           1             0          0   \n",
       "4             1           0           1             0          0   \n",
       "\n",
       "  dismissal_kind player_dismissed fielder extras_type           batting_team  \\\n",
       "0            NaN              NaN     NaN         NaN  Kolkata Knight Riders   \n",
       "1            NaN              NaN     NaN         NaN  Kolkata Knight Riders   \n",
       "2            NaN              NaN     NaN         NaN  Kolkata Knight Riders   \n",
       "3            NaN              NaN     NaN         NaN  Kolkata Knight Riders   \n",
       "4            NaN              NaN     NaN         NaN  Kolkata Knight Riders   \n",
       "\n",
       "                  bowling_team  \n",
       "0  Royal Challengers Bangalore  \n",
       "1  Royal Challengers Bangalore  \n",
       "2  Royal Challengers Bangalore  \n",
       "3  Royal Challengers Bangalore  \n",
       "4  Royal Challengers Bangalore  "
      ]
     },
     "execution_count": 5,
     "metadata": {},
     "output_type": "execute_result"
    }
   ],
   "source": [
    "ball_data.head()"
   ]
  },
  {
   "cell_type": "code",
   "execution_count": 6,
   "id": "f0f4cae5",
   "metadata": {},
   "outputs": [
    {
     "data": {
      "text/html": [
       "<div>\n",
       "<style scoped>\n",
       "    .dataframe tbody tr th:only-of-type {\n",
       "        vertical-align: middle;\n",
       "    }\n",
       "\n",
       "    .dataframe tbody tr th {\n",
       "        vertical-align: top;\n",
       "    }\n",
       "\n",
       "    .dataframe thead th {\n",
       "        text-align: right;\n",
       "    }\n",
       "</style>\n",
       "<table border=\"1\" class=\"dataframe\">\n",
       "  <thead>\n",
       "    <tr style=\"text-align: right;\">\n",
       "      <th></th>\n",
       "      <th>id</th>\n",
       "      <th>neutral_venue</th>\n",
       "      <th>result_margin</th>\n",
       "    </tr>\n",
       "  </thead>\n",
       "  <tbody>\n",
       "    <tr>\n",
       "      <th>count</th>\n",
       "      <td>8.160000e+02</td>\n",
       "      <td>816.000000</td>\n",
       "      <td>799.000000</td>\n",
       "    </tr>\n",
       "    <tr>\n",
       "      <th>mean</th>\n",
       "      <td>7.563496e+05</td>\n",
       "      <td>0.094363</td>\n",
       "      <td>17.321652</td>\n",
       "    </tr>\n",
       "    <tr>\n",
       "      <th>std</th>\n",
       "      <td>3.058943e+05</td>\n",
       "      <td>0.292512</td>\n",
       "      <td>22.068427</td>\n",
       "    </tr>\n",
       "    <tr>\n",
       "      <th>min</th>\n",
       "      <td>3.359820e+05</td>\n",
       "      <td>0.000000</td>\n",
       "      <td>1.000000</td>\n",
       "    </tr>\n",
       "    <tr>\n",
       "      <th>25%</th>\n",
       "      <td>5.012278e+05</td>\n",
       "      <td>0.000000</td>\n",
       "      <td>6.000000</td>\n",
       "    </tr>\n",
       "    <tr>\n",
       "      <th>50%</th>\n",
       "      <td>7.292980e+05</td>\n",
       "      <td>0.000000</td>\n",
       "      <td>8.000000</td>\n",
       "    </tr>\n",
       "    <tr>\n",
       "      <th>75%</th>\n",
       "      <td>1.082626e+06</td>\n",
       "      <td>0.000000</td>\n",
       "      <td>19.500000</td>\n",
       "    </tr>\n",
       "    <tr>\n",
       "      <th>max</th>\n",
       "      <td>1.237181e+06</td>\n",
       "      <td>1.000000</td>\n",
       "      <td>146.000000</td>\n",
       "    </tr>\n",
       "  </tbody>\n",
       "</table>\n",
       "</div>"
      ],
      "text/plain": [
       "                 id  neutral_venue  result_margin\n",
       "count  8.160000e+02     816.000000     799.000000\n",
       "mean   7.563496e+05       0.094363      17.321652\n",
       "std    3.058943e+05       0.292512      22.068427\n",
       "min    3.359820e+05       0.000000       1.000000\n",
       "25%    5.012278e+05       0.000000       6.000000\n",
       "50%    7.292980e+05       0.000000       8.000000\n",
       "75%    1.082626e+06       0.000000      19.500000\n",
       "max    1.237181e+06       1.000000     146.000000"
      ]
     },
     "execution_count": 6,
     "metadata": {},
     "output_type": "execute_result"
    }
   ],
   "source": [
    "match_data.describe()"
   ]
  },
  {
   "cell_type": "markdown",
   "id": "0a6d0dbf-61e5-4a6d-ae20-06ece42ef7e2",
   "metadata": {},
   "source": [
    "### The above code describe() is used to view some basic statistical details like percentile, mean, std, etc. of a data frame or a series of numeric values"
   ]
  },
  {
   "cell_type": "code",
   "execution_count": 7,
   "id": "ebc3864e",
   "metadata": {},
   "outputs": [
    {
     "data": {
      "text/html": [
       "<div>\n",
       "<style scoped>\n",
       "    .dataframe tbody tr th:only-of-type {\n",
       "        vertical-align: middle;\n",
       "    }\n",
       "\n",
       "    .dataframe tbody tr th {\n",
       "        vertical-align: top;\n",
       "    }\n",
       "\n",
       "    .dataframe thead th {\n",
       "        text-align: right;\n",
       "    }\n",
       "</style>\n",
       "<table border=\"1\" class=\"dataframe\">\n",
       "  <thead>\n",
       "    <tr style=\"text-align: right;\">\n",
       "      <th></th>\n",
       "      <th>id</th>\n",
       "      <th>inning</th>\n",
       "      <th>over</th>\n",
       "      <th>ball</th>\n",
       "      <th>batsman_runs</th>\n",
       "      <th>extra_runs</th>\n",
       "      <th>total_runs</th>\n",
       "      <th>non_boundary</th>\n",
       "      <th>is_wicket</th>\n",
       "    </tr>\n",
       "  </thead>\n",
       "  <tbody>\n",
       "    <tr>\n",
       "      <th>count</th>\n",
       "      <td>1.934680e+05</td>\n",
       "      <td>193468.000000</td>\n",
       "      <td>193468.000000</td>\n",
       "      <td>193468.000000</td>\n",
       "      <td>193468.000000</td>\n",
       "      <td>193468.000000</td>\n",
       "      <td>193468.000000</td>\n",
       "      <td>193468.000000</td>\n",
       "      <td>193468.000000</td>\n",
       "    </tr>\n",
       "    <tr>\n",
       "      <th>mean</th>\n",
       "      <td>7.567688e+05</td>\n",
       "      <td>1.482131</td>\n",
       "      <td>9.177027</td>\n",
       "      <td>3.615967</td>\n",
       "      <td>1.240231</td>\n",
       "      <td>0.066414</td>\n",
       "      <td>1.306645</td>\n",
       "      <td>0.000083</td>\n",
       "      <td>0.049078</td>\n",
       "    </tr>\n",
       "    <tr>\n",
       "      <th>std</th>\n",
       "      <td>3.060971e+05</td>\n",
       "      <td>0.499682</td>\n",
       "      <td>5.676848</td>\n",
       "      <td>1.807128</td>\n",
       "      <td>1.610867</td>\n",
       "      <td>0.339991</td>\n",
       "      <td>1.598802</td>\n",
       "      <td>0.009094</td>\n",
       "      <td>0.216031</td>\n",
       "    </tr>\n",
       "    <tr>\n",
       "      <th>min</th>\n",
       "      <td>3.359820e+05</td>\n",
       "      <td>1.000000</td>\n",
       "      <td>0.000000</td>\n",
       "      <td>1.000000</td>\n",
       "      <td>0.000000</td>\n",
       "      <td>0.000000</td>\n",
       "      <td>0.000000</td>\n",
       "      <td>0.000000</td>\n",
       "      <td>0.000000</td>\n",
       "    </tr>\n",
       "    <tr>\n",
       "      <th>25%</th>\n",
       "      <td>5.012270e+05</td>\n",
       "      <td>1.000000</td>\n",
       "      <td>4.000000</td>\n",
       "      <td>2.000000</td>\n",
       "      <td>0.000000</td>\n",
       "      <td>0.000000</td>\n",
       "      <td>0.000000</td>\n",
       "      <td>0.000000</td>\n",
       "      <td>0.000000</td>\n",
       "    </tr>\n",
       "    <tr>\n",
       "      <th>50%</th>\n",
       "      <td>7.292970e+05</td>\n",
       "      <td>1.000000</td>\n",
       "      <td>9.000000</td>\n",
       "      <td>4.000000</td>\n",
       "      <td>1.000000</td>\n",
       "      <td>0.000000</td>\n",
       "      <td>1.000000</td>\n",
       "      <td>0.000000</td>\n",
       "      <td>0.000000</td>\n",
       "    </tr>\n",
       "    <tr>\n",
       "      <th>75%</th>\n",
       "      <td>1.082628e+06</td>\n",
       "      <td>2.000000</td>\n",
       "      <td>14.000000</td>\n",
       "      <td>5.000000</td>\n",
       "      <td>1.000000</td>\n",
       "      <td>0.000000</td>\n",
       "      <td>1.000000</td>\n",
       "      <td>0.000000</td>\n",
       "      <td>0.000000</td>\n",
       "    </tr>\n",
       "    <tr>\n",
       "      <th>max</th>\n",
       "      <td>1.237181e+06</td>\n",
       "      <td>2.000000</td>\n",
       "      <td>19.000000</td>\n",
       "      <td>9.000000</td>\n",
       "      <td>6.000000</td>\n",
       "      <td>7.000000</td>\n",
       "      <td>7.000000</td>\n",
       "      <td>1.000000</td>\n",
       "      <td>1.000000</td>\n",
       "    </tr>\n",
       "  </tbody>\n",
       "</table>\n",
       "</div>"
      ],
      "text/plain": [
       "                 id         inning           over           ball  \\\n",
       "count  1.934680e+05  193468.000000  193468.000000  193468.000000   \n",
       "mean   7.567688e+05       1.482131       9.177027       3.615967   \n",
       "std    3.060971e+05       0.499682       5.676848       1.807128   \n",
       "min    3.359820e+05       1.000000       0.000000       1.000000   \n",
       "25%    5.012270e+05       1.000000       4.000000       2.000000   \n",
       "50%    7.292970e+05       1.000000       9.000000       4.000000   \n",
       "75%    1.082628e+06       2.000000      14.000000       5.000000   \n",
       "max    1.237181e+06       2.000000      19.000000       9.000000   \n",
       "\n",
       "        batsman_runs     extra_runs     total_runs   non_boundary  \\\n",
       "count  193468.000000  193468.000000  193468.000000  193468.000000   \n",
       "mean        1.240231       0.066414       1.306645       0.000083   \n",
       "std         1.610867       0.339991       1.598802       0.009094   \n",
       "min         0.000000       0.000000       0.000000       0.000000   \n",
       "25%         0.000000       0.000000       0.000000       0.000000   \n",
       "50%         1.000000       0.000000       1.000000       0.000000   \n",
       "75%         1.000000       0.000000       1.000000       0.000000   \n",
       "max         6.000000       7.000000       7.000000       1.000000   \n",
       "\n",
       "           is_wicket  \n",
       "count  193468.000000  \n",
       "mean        0.049078  \n",
       "std         0.216031  \n",
       "min         0.000000  \n",
       "25%         0.000000  \n",
       "50%         0.000000  \n",
       "75%         0.000000  \n",
       "max         1.000000  "
      ]
     },
     "execution_count": 7,
     "metadata": {},
     "output_type": "execute_result"
    }
   ],
   "source": [
    "ball_data.describe()"
   ]
  },
  {
   "cell_type": "markdown",
   "id": "93cb0647-02f8-4829-aa06-d44806deda27",
   "metadata": {},
   "source": [
    "### The above code describe() is used to view some basic statistical details like percentile, mean, std, etc. of a data frame or a series of numeric values"
   ]
  },
  {
   "cell_type": "markdown",
   "id": "bf744b3f",
   "metadata": {},
   "source": [
    "### Checking if there are null values in both the data set."
   ]
  },
  {
   "cell_type": "code",
   "execution_count": 5,
   "id": "d4e98fa7-8351-44aa-b672-c33d53c63129",
   "metadata": {
    "tags": []
   },
   "outputs": [
    {
     "data": {
      "text/plain": [
       "id                   0\n",
       "city                13\n",
       "date                 0\n",
       "player_of_match      4\n",
       "venue                0\n",
       "neutral_venue        0\n",
       "team1                0\n",
       "team2                0\n",
       "toss_winner          0\n",
       "toss_decision        0\n",
       "winner               4\n",
       "result               4\n",
       "result_margin       17\n",
       "eliminator           4\n",
       "method             797\n",
       "umpire1              0\n",
       "umpire2              0\n",
       "dtype: int64"
      ]
     },
     "execution_count": 5,
     "metadata": {},
     "output_type": "execute_result"
    }
   ],
   "source": [
    "match_data.isnull().sum()"
   ]
  },
  {
   "cell_type": "code",
   "execution_count": 33,
   "id": "027fd922-3903-4a69-8e4f-a88b719ed575",
   "metadata": {
    "tags": []
   },
   "outputs": [
    {
     "data": {
      "text/html": [
       "<div>\n",
       "<style scoped>\n",
       "    .dataframe tbody tr th:only-of-type {\n",
       "        vertical-align: middle;\n",
       "    }\n",
       "\n",
       "    .dataframe tbody tr th {\n",
       "        vertical-align: top;\n",
       "    }\n",
       "\n",
       "    .dataframe thead th {\n",
       "        text-align: right;\n",
       "    }\n",
       "</style>\n",
       "<table border=\"1\" class=\"dataframe\">\n",
       "  <thead>\n",
       "    <tr style=\"text-align: right;\">\n",
       "      <th></th>\n",
       "      <th>id</th>\n",
       "      <th>city</th>\n",
       "      <th>date</th>\n",
       "      <th>player_of_match</th>\n",
       "      <th>venue</th>\n",
       "      <th>neutral_venue</th>\n",
       "      <th>team1</th>\n",
       "      <th>team2</th>\n",
       "      <th>toss_winner</th>\n",
       "      <th>toss_decision</th>\n",
       "      <th>winner</th>\n",
       "      <th>result</th>\n",
       "      <th>result_margin</th>\n",
       "      <th>eliminator</th>\n",
       "      <th>method</th>\n",
       "      <th>umpire1</th>\n",
       "      <th>umpire2</th>\n",
       "      <th>Season</th>\n",
       "    </tr>\n",
       "  </thead>\n",
       "  <tbody>\n",
       "    <tr>\n",
       "      <th>40</th>\n",
       "      <td>336022</td>\n",
       "      <td>Delhi</td>\n",
       "      <td>2008-05-17</td>\n",
       "      <td>DPMD Jayawardene</td>\n",
       "      <td>Feroz Shah Kotla</td>\n",
       "      <td>0</td>\n",
       "      <td>Delhi Daredevils</td>\n",
       "      <td>Kings XI Punjab</td>\n",
       "      <td>Delhi Daredevils</td>\n",
       "      <td>bat</td>\n",
       "      <td>Kings XI Punjab</td>\n",
       "      <td>runs</td>\n",
       "      <td>6.0</td>\n",
       "      <td>N</td>\n",
       "      <td>D/L</td>\n",
       "      <td>AV Jayaprakash</td>\n",
       "      <td>RE Koertzen</td>\n",
       "      <td>2008</td>\n",
       "    </tr>\n",
       "    <tr>\n",
       "      <th>43</th>\n",
       "      <td>336025</td>\n",
       "      <td>Kolkata</td>\n",
       "      <td>2008-05-18</td>\n",
       "      <td>M Ntini</td>\n",
       "      <td>Eden Gardens</td>\n",
       "      <td>0</td>\n",
       "      <td>Kolkata Knight Riders</td>\n",
       "      <td>Chennai Super Kings</td>\n",
       "      <td>Kolkata Knight Riders</td>\n",
       "      <td>bat</td>\n",
       "      <td>Chennai Super Kings</td>\n",
       "      <td>runs</td>\n",
       "      <td>3.0</td>\n",
       "      <td>N</td>\n",
       "      <td>D/L</td>\n",
       "      <td>Asad Rauf</td>\n",
       "      <td>K Hariharan</td>\n",
       "      <td>2008</td>\n",
       "    </tr>\n",
       "  </tbody>\n",
       "</table>\n",
       "</div>"
      ],
      "text/plain": [
       "        id     city        date   player_of_match             venue  \\\n",
       "40  336022    Delhi  2008-05-17  DPMD Jayawardene  Feroz Shah Kotla   \n",
       "43  336025  Kolkata  2008-05-18           M Ntini      Eden Gardens   \n",
       "\n",
       "    neutral_venue                  team1                team2  \\\n",
       "40              0       Delhi Daredevils      Kings XI Punjab   \n",
       "43              0  Kolkata Knight Riders  Chennai Super Kings   \n",
       "\n",
       "              toss_winner toss_decision               winner result  \\\n",
       "40       Delhi Daredevils           bat      Kings XI Punjab   runs   \n",
       "43  Kolkata Knight Riders           bat  Chennai Super Kings   runs   \n",
       "\n",
       "    result_margin eliminator method         umpire1      umpire2  Season  \n",
       "40            6.0          N    D/L  AV Jayaprakash  RE Koertzen    2008  \n",
       "43            3.0          N    D/L       Asad Rauf  K Hariharan    2008  "
      ]
     },
     "execution_count": 33,
     "metadata": {},
     "output_type": "execute_result"
    }
   ],
   "source": [
    "data1=match_data.dropna()\n",
    "data1.head(2)"
   ]
  },
  {
   "cell_type": "markdown",
   "id": "85868996-8794-4f51-a067-31dd4510928d",
   "metadata": {},
   "source": [
    "### DATA CLEANING"
   ]
  },
  {
   "cell_type": "code",
   "execution_count": 35,
   "id": "6d18da0b-364b-47c5-a657-9ea0cd87159b",
   "metadata": {
    "tags": []
   },
   "outputs": [],
   "source": [
    "data2=data1.drop_duplicates()"
   ]
  },
  {
   "cell_type": "code",
   "execution_count": 36,
   "id": "932e178a-dc80-445b-a08c-29aabf782b90",
   "metadata": {
    "tags": []
   },
   "outputs": [
    {
     "data": {
      "text/plain": [
       "0"
      ]
     },
     "execution_count": 36,
     "metadata": {},
     "output_type": "execute_result"
    }
   ],
   "source": [
    "data2.duplicated().sum()"
   ]
  },
  {
   "cell_type": "code",
   "execution_count": 38,
   "id": "a4877e23-91fa-4911-8eb3-2c93de4a7b24",
   "metadata": {
    "tags": []
   },
   "outputs": [
    {
     "data": {
      "text/plain": [
       "id                 0\n",
       "city               0\n",
       "date               0\n",
       "player_of_match    0\n",
       "venue              0\n",
       "neutral_venue      0\n",
       "team1              0\n",
       "team2              0\n",
       "toss_winner        0\n",
       "toss_decision      0\n",
       "winner             0\n",
       "result             0\n",
       "result_margin      0\n",
       "eliminator         0\n",
       "method             0\n",
       "umpire1            0\n",
       "umpire2            0\n",
       "Season             0\n",
       "dtype: int64"
      ]
     },
     "execution_count": 38,
     "metadata": {},
     "output_type": "execute_result"
    }
   ],
   "source": [
    "data2.isna().sum()"
   ]
  },
  {
   "cell_type": "code",
   "execution_count": 39,
   "id": "09692b4f-96e7-4da4-bf8f-fe90ecdaf2e6",
   "metadata": {
    "tags": []
   },
   "outputs": [
    {
     "data": {
      "text/plain": [
       "id                       0\n",
       "inning                   0\n",
       "over                     0\n",
       "ball                     0\n",
       "batsman                  0\n",
       "non_striker              0\n",
       "bowler                   0\n",
       "batsman_runs             0\n",
       "extra_runs               0\n",
       "total_runs               0\n",
       "non_boundary             0\n",
       "is_wicket                0\n",
       "dismissal_kind      183973\n",
       "player_dismissed    183973\n",
       "fielder             186684\n",
       "extras_type         183235\n",
       "batting_team             0\n",
       "bowling_team           191\n",
       "dtype: int64"
      ]
     },
     "execution_count": 39,
     "metadata": {},
     "output_type": "execute_result"
    }
   ],
   "source": [
    "ball_data.isnull().sum()"
   ]
  },
  {
   "cell_type": "code",
   "execution_count": 40,
   "id": "d6124a1d-8582-424e-95aa-e678e4dfed32",
   "metadata": {
    "tags": []
   },
   "outputs": [
    {
     "data": {
      "text/html": [
       "<div>\n",
       "<style scoped>\n",
       "    .dataframe tbody tr th:only-of-type {\n",
       "        vertical-align: middle;\n",
       "    }\n",
       "\n",
       "    .dataframe tbody tr th {\n",
       "        vertical-align: top;\n",
       "    }\n",
       "\n",
       "    .dataframe thead th {\n",
       "        text-align: right;\n",
       "    }\n",
       "</style>\n",
       "<table border=\"1\" class=\"dataframe\">\n",
       "  <thead>\n",
       "    <tr style=\"text-align: right;\">\n",
       "      <th></th>\n",
       "      <th>id</th>\n",
       "      <th>inning</th>\n",
       "      <th>over</th>\n",
       "      <th>ball</th>\n",
       "      <th>batsman</th>\n",
       "      <th>non_striker</th>\n",
       "      <th>bowler</th>\n",
       "      <th>batsman_runs</th>\n",
       "      <th>extra_runs</th>\n",
       "      <th>total_runs</th>\n",
       "      <th>non_boundary</th>\n",
       "      <th>is_wicket</th>\n",
       "      <th>dismissal_kind</th>\n",
       "      <th>player_dismissed</th>\n",
       "      <th>fielder</th>\n",
       "      <th>extras_type</th>\n",
       "      <th>batting_team</th>\n",
       "      <th>bowling_team</th>\n",
       "    </tr>\n",
       "  </thead>\n",
       "  <tbody>\n",
       "    <tr>\n",
       "      <th>6666</th>\n",
       "      <td>336010</td>\n",
       "      <td>1</td>\n",
       "      <td>8</td>\n",
       "      <td>6</td>\n",
       "      <td>DJ Hussey</td>\n",
       "      <td>T Taibu</td>\n",
       "      <td>A Kumble</td>\n",
       "      <td>0</td>\n",
       "      <td>1</td>\n",
       "      <td>1</td>\n",
       "      <td>0</td>\n",
       "      <td>1</td>\n",
       "      <td>run out</td>\n",
       "      <td>DJ Hussey</td>\n",
       "      <td>DW Steyn,MV Boucher</td>\n",
       "      <td>legbyes</td>\n",
       "      <td>Kolkata Knight Riders</td>\n",
       "      <td>Royal Challengers Bangalore</td>\n",
       "    </tr>\n",
       "    <tr>\n",
       "      <th>9098</th>\n",
       "      <td>336020</td>\n",
       "      <td>1</td>\n",
       "      <td>15</td>\n",
       "      <td>2</td>\n",
       "      <td>G Gambhir</td>\n",
       "      <td>S Dhawan</td>\n",
       "      <td>PP Ojha</td>\n",
       "      <td>0</td>\n",
       "      <td>1</td>\n",
       "      <td>1</td>\n",
       "      <td>0</td>\n",
       "      <td>1</td>\n",
       "      <td>stumped</td>\n",
       "      <td>G Gambhir</td>\n",
       "      <td>AC Gilchrist</td>\n",
       "      <td>wides</td>\n",
       "      <td>Delhi Daredevils</td>\n",
       "      <td>Deccan Chargers</td>\n",
       "    </tr>\n",
       "  </tbody>\n",
       "</table>\n",
       "</div>"
      ],
      "text/plain": [
       "          id  inning  over  ball    batsman non_striker    bowler  \\\n",
       "6666  336010       1     8     6  DJ Hussey     T Taibu  A Kumble   \n",
       "9098  336020       1    15     2  G Gambhir    S Dhawan   PP Ojha   \n",
       "\n",
       "      batsman_runs  extra_runs  total_runs  non_boundary  is_wicket  \\\n",
       "6666             0           1           1             0          1   \n",
       "9098             0           1           1             0          1   \n",
       "\n",
       "     dismissal_kind player_dismissed              fielder extras_type  \\\n",
       "6666        run out        DJ Hussey  DW Steyn,MV Boucher     legbyes   \n",
       "9098        stumped        G Gambhir         AC Gilchrist       wides   \n",
       "\n",
       "               batting_team                 bowling_team  \n",
       "6666  Kolkata Knight Riders  Royal Challengers Bangalore  \n",
       "9098       Delhi Daredevils              Deccan Chargers  "
      ]
     },
     "execution_count": 40,
     "metadata": {},
     "output_type": "execute_result"
    }
   ],
   "source": [
    "data2=ball_data.dropna()\n",
    "data2.head(2)"
   ]
  },
  {
   "cell_type": "code",
   "execution_count": 41,
   "id": "eda8e155-ee5e-47a2-981b-7f6bf119b59c",
   "metadata": {
    "tags": []
   },
   "outputs": [],
   "source": [
    "data3=data2.drop_duplicates()"
   ]
  },
  {
   "cell_type": "code",
   "execution_count": 42,
   "id": "089c4f6e-2403-4f5b-9bc7-ffee08daf702",
   "metadata": {
    "tags": []
   },
   "outputs": [
    {
     "data": {
      "text/plain": [
       "0"
      ]
     },
     "execution_count": 42,
     "metadata": {},
     "output_type": "execute_result"
    }
   ],
   "source": [
    "data3.duplicated().sum()"
   ]
  },
  {
   "cell_type": "code",
   "execution_count": 43,
   "id": "4cb36d19-8d0d-492f-8929-bd2252de7873",
   "metadata": {
    "tags": []
   },
   "outputs": [
    {
     "data": {
      "text/plain": [
       "id                  0\n",
       "inning              0\n",
       "over                0\n",
       "ball                0\n",
       "batsman             0\n",
       "non_striker         0\n",
       "bowler              0\n",
       "batsman_runs        0\n",
       "extra_runs          0\n",
       "total_runs          0\n",
       "non_boundary        0\n",
       "is_wicket           0\n",
       "dismissal_kind      0\n",
       "player_dismissed    0\n",
       "fielder             0\n",
       "extras_type         0\n",
       "batting_team        0\n",
       "bowling_team        0\n",
       "dtype: int64"
      ]
     },
     "execution_count": 43,
     "metadata": {},
     "output_type": "execute_result"
    }
   ],
   "source": [
    "data3.isna().sum()"
   ]
  },
  {
   "cell_type": "markdown",
   "id": "a181cba8-3489-4f77-9bd2-f2654173b150",
   "metadata": {},
   "source": [
    "### The duplicate values are dropped and verified  that the number of null values and duplicates is zero each. And hence the cleaned dataset is obtained."
   ]
  },
  {
   "cell_type": "code",
   "execution_count": 44,
   "id": "1a2a8f0b-59ee-4c91-9292-db0bcde92bc0",
   "metadata": {
    "tags": []
   },
   "outputs": [
    {
     "data": {
      "text/plain": [
       "(193468, 18)"
      ]
     },
     "execution_count": 44,
     "metadata": {},
     "output_type": "execute_result"
    }
   ],
   "source": [
    "ball_data.shape"
   ]
  },
  {
   "cell_type": "markdown",
   "id": "7fc4bc96-27dc-4200-b339-7842e15f45b8",
   "metadata": {},
   "source": [
    "### We can see that there are 193468 rows and 18 columns in the data set"
   ]
  },
  {
   "cell_type": "code",
   "execution_count": null,
   "id": "c536a09e-af2d-4e0b-9489-48d9a1f602e6",
   "metadata": {},
   "outputs": [],
   "source": [
    "match_data.shape[0]"
   ]
  },
  {
   "cell_type": "markdown",
   "id": "c83b6e1f-2da1-4818-8053-eec3a0753add",
   "metadata": {},
   "source": [
    "### So 816 matches has been played"
   ]
  },
  {
   "cell_type": "code",
   "execution_count": 46,
   "id": "85b3e15c-0d2e-427b-96d8-a915f005b4f0",
   "metadata": {
    "tags": []
   },
   "outputs": [
    {
     "name": "stdout",
     "output_type": "stream",
     "text": [
      "Cities played at :  ['Bangalore' 'Chandigarh' 'Delhi' 'Mumbai' 'Kolkata' 'Jaipur' 'Hyderabad'\n",
      " 'Chennai' 'Cape Town' 'Port Elizabeth' 'Durban' 'Centurion' 'East London'\n",
      " 'Johannesburg' 'Kimberley' 'Bloemfontein' 'Ahmedabad' 'Cuttack' 'Nagpur'\n",
      " 'Dharamsala' 'Kochi' 'Indore' 'Visakhapatnam' 'Pune' 'Raipur' 'Ranchi'\n",
      " 'Abu Dhabi' nan 'Rajkot' 'Kanpur' 'Bengaluru' 'Dubai' 'Sharjah']\n"
     ]
    }
   ],
   "source": [
    "print('Cities played at : ',match_data['city'].unique())"
   ]
  },
  {
   "cell_type": "markdown",
   "id": "3ae70bcd-001e-484e-9c8d-aaa3365ae8d7",
   "metadata": {},
   "source": [
    "### So these are the venues where matches has been played "
   ]
  },
  {
   "cell_type": "code",
   "execution_count": 73,
   "id": "16bf8478-f417-432d-96ce-c4a8f93512c1",
   "metadata": {
    "tags": []
   },
   "outputs": [
    {
     "name": "stdout",
     "output_type": "stream",
     "text": [
      "Teams participated: ['Royal Challengers Bangalore' 'Kings XI Punjab' 'Delhi Daredevils'\n",
      " 'Mumbai Indians' 'Kolkata Knight Riders' 'Rajasthan Royals'\n",
      " 'Deccan Chargers' 'Chennai Super Kings' 'Kochi Tuskers Kerala'\n",
      " 'Pune Warriors' 'Sunrisers Hyderabad' 'Gujarat Lions'\n",
      " 'Rising Pune Supergiants' 'Rising Pune Supergiant' 'Delhi Capitals']\n"
     ]
    }
   ],
   "source": [
    "print('Teams participated:',match_data['team1'].unique())"
   ]
  },
  {
   "cell_type": "markdown",
   "id": "e7a64698-303b-4491-a694-a03e70e23562",
   "metadata": {},
   "source": [
    "### These are the teams"
   ]
  },
  {
   "cell_type": "markdown",
   "id": "ebd1af94-4fb2-4ad6-b224-b4b9b1dc9bfd",
   "metadata": {},
   "source": [
    "### DATA ANALYSIS USING MEASURES OF CENTRAL TENDENCY:"
   ]
  },
  {
   "cell_type": "code",
   "execution_count": 45,
   "id": "07632c2c-5c17-479b-b54c-985a10d8460f",
   "metadata": {
    "tags": []
   },
   "outputs": [
    {
     "data": {
      "text/plain": [
       "17.321652065081352"
      ]
     },
     "execution_count": 45,
     "metadata": {},
     "output_type": "execute_result"
    }
   ],
   "source": [
    "match_data['result_margin'].mean()"
   ]
  },
  {
   "cell_type": "markdown",
   "id": "8fbb6030-0b44-4251-a8c4-b3722531075e",
   "metadata": {},
   "source": [
    "### The mean provides a measure of central tendency, indicating the center or average of a distribution. It is commonly used to summarize a dataset with a single representative value.\n",
    "### CONCLUSION:-The mean of result margin in the Indian Premier League (IPL) across all matches from 2008 to 2020 is 17.321652065081352."
   ]
  },
  {
   "cell_type": "code",
   "execution_count": 45,
   "id": "e451ca1a",
   "metadata": {},
   "outputs": [
    {
     "data": {
      "text/plain": [
       "8.0"
      ]
     },
     "execution_count": 45,
     "metadata": {},
     "output_type": "execute_result"
    }
   ],
   "source": [
    "match_data['result_margin'].median()"
   ]
  },
  {
   "cell_type": "markdown",
   "id": "65276bdc-a334-40ae-bb9d-34e2f46980a8",
   "metadata": {},
   "source": [
    "### The median of result margin by all teams in the Indian Premier League (IPL), considering all matches from 2008 to 2020 is 8.0.\n",
    "### CONCLUSION:-The mean is a better measure to calculate the average of result margin in the IPL because it considers every run scored, providing a balanced representation of the overall batting performance, whereas the median may be influenced by extreme values from a few exceptional innings."
   ]
  },
  {
   "cell_type": "code",
   "execution_count": 24,
   "id": "4e93944b-71d1-42b6-a605-5109b3c6407c",
   "metadata": {
    "tags": []
   },
   "outputs": [
    {
     "data": {
      "text/plain": [
       "6"
      ]
     },
     "execution_count": 24,
     "metadata": {},
     "output_type": "execute_result"
    }
   ],
   "source": [
    "ball_data['batsman_runs'].max()"
   ]
  },
  {
   "cell_type": "markdown",
   "id": "c8209587-452f-4826-beb2-4172d39532dc",
   "metadata": {},
   "source": [
    "#### The maximum runs that could be scored in one valid ball is 6 ."
   ]
  },
  {
   "cell_type": "code",
   "execution_count": 25,
   "id": "ac0e3bbe-0bf5-4954-84ca-bafe78052179",
   "metadata": {
    "tags": []
   },
   "outputs": [
    {
     "data": {
      "text/plain": [
       "0"
      ]
     },
     "execution_count": 25,
     "metadata": {},
     "output_type": "execute_result"
    }
   ],
   "source": [
    "ball_data['batsman_runs'].min()"
   ]
  },
  {
   "cell_type": "markdown",
   "id": "83767383-c9c7-4f12-a1e2-737979be349b",
   "metadata": {},
   "source": [
    "#### The minimum runs that could be scored in one valid ball is 0 ."
   ]
  },
  {
   "cell_type": "code",
   "execution_count": 26,
   "id": "dd3fa57c-0181-4c3d-adeb-f83ea00790b5",
   "metadata": {
    "tags": []
   },
   "outputs": [
    {
     "data": {
      "text/plain": [
       "6"
      ]
     },
     "execution_count": 26,
     "metadata": {},
     "output_type": "execute_result"
    }
   ],
   "source": [
    "ball_data['batsman_runs'].max()-ball_data['batsman_runs'].min()"
   ]
  },
  {
   "cell_type": "markdown",
   "id": "05c47cc2-2410-45b1-9670-52745aad7380",
   "metadata": {},
   "source": [
    "### CONCLUSION:-  The range is a basic measure of dispersion that provides a quick assessment of how spread out the values in a dataset are. Range of batsman runs in the IPL Match is 6."
   ]
  },
  {
   "cell_type": "code",
   "execution_count": 27,
   "id": "d4b9cf7b-7821-4933-b897-4b317a190309",
   "metadata": {
    "tags": []
   },
   "outputs": [
    {
     "data": {
      "text/plain": [
       "487.0154579188895"
      ]
     },
     "execution_count": 27,
     "metadata": {},
     "output_type": "execute_result"
    }
   ],
   "source": [
    "match_data['result_margin'].var()"
   ]
  },
  {
   "cell_type": "markdown",
   "id": "a659f6a0-b3fe-48c9-abda-594bfdb5dbbc",
   "metadata": {},
   "source": [
    "### CONCLUSION:-The variance of total scores in the IPL being 487 indicates a notable degree of variability in team performances throughout the season."
   ]
  },
  {
   "cell_type": "code",
   "execution_count": 29,
   "id": "aaef906f-2ed1-433e-8c0c-abe70bc0ac11",
   "metadata": {
    "tags": []
   },
   "outputs": [
    {
     "data": {
      "text/plain": [
       "1.598801764933738"
      ]
     },
     "execution_count": 29,
     "metadata": {},
     "output_type": "execute_result"
    }
   ],
   "source": [
    "ball_data['total_runs'].std()"
   ]
  },
  {
   "cell_type": "markdown",
   "id": "79651d42-7716-4617-805a-a8fb128dbd18",
   "metadata": {},
   "source": [
    "### CONCLUSION:-If the standard deviation of total runs (batsman runs and extra runs) in an IPL match is 1.59, it suggests a relatively low level of variability or dispersion in the scoring patterns during the matches."
   ]
  },
  {
   "cell_type": "code",
   "execution_count": 30,
   "id": "d34f3727-3594-44d5-83f3-711a0871c6a5",
   "metadata": {
    "tags": []
   },
   "outputs": [
    {
     "data": {
      "text/html": [
       "<div>\n",
       "<style scoped>\n",
       "    .dataframe tbody tr th:only-of-type {\n",
       "        vertical-align: middle;\n",
       "    }\n",
       "\n",
       "    .dataframe tbody tr th {\n",
       "        vertical-align: top;\n",
       "    }\n",
       "\n",
       "    .dataframe thead th {\n",
       "        text-align: right;\n",
       "    }\n",
       "</style>\n",
       "<table border=\"1\" class=\"dataframe\">\n",
       "  <thead>\n",
       "    <tr style=\"text-align: right;\">\n",
       "      <th></th>\n",
       "      <th>winner_Chennai Super Kings</th>\n",
       "      <th>winner_Deccan Chargers</th>\n",
       "      <th>winner_Delhi Capitals</th>\n",
       "      <th>winner_Delhi Daredevils</th>\n",
       "      <th>winner_Gujarat Lions</th>\n",
       "      <th>winner_Kings XI Punjab</th>\n",
       "      <th>winner_Kochi Tuskers Kerala</th>\n",
       "      <th>winner_Kolkata Knight Riders</th>\n",
       "      <th>winner_Mumbai Indians</th>\n",
       "      <th>winner_Pune Warriors</th>\n",
       "      <th>winner_Rajasthan Royals</th>\n",
       "      <th>winner_Rising Pune Supergiant</th>\n",
       "      <th>winner_Rising Pune Supergiants</th>\n",
       "      <th>winner_Royal Challengers Bangalore</th>\n",
       "      <th>winner_Sunrisers Hyderabad</th>\n",
       "      <th>result_runs</th>\n",
       "      <th>result_tie</th>\n",
       "      <th>result_wickets</th>\n",
       "    </tr>\n",
       "  </thead>\n",
       "  <tbody>\n",
       "    <tr>\n",
       "      <th>0</th>\n",
       "      <td>False</td>\n",
       "      <td>False</td>\n",
       "      <td>False</td>\n",
       "      <td>False</td>\n",
       "      <td>False</td>\n",
       "      <td>False</td>\n",
       "      <td>False</td>\n",
       "      <td>True</td>\n",
       "      <td>False</td>\n",
       "      <td>False</td>\n",
       "      <td>False</td>\n",
       "      <td>False</td>\n",
       "      <td>False</td>\n",
       "      <td>False</td>\n",
       "      <td>False</td>\n",
       "      <td>True</td>\n",
       "      <td>False</td>\n",
       "      <td>False</td>\n",
       "    </tr>\n",
       "    <tr>\n",
       "      <th>1</th>\n",
       "      <td>True</td>\n",
       "      <td>False</td>\n",
       "      <td>False</td>\n",
       "      <td>False</td>\n",
       "      <td>False</td>\n",
       "      <td>False</td>\n",
       "      <td>False</td>\n",
       "      <td>False</td>\n",
       "      <td>False</td>\n",
       "      <td>False</td>\n",
       "      <td>False</td>\n",
       "      <td>False</td>\n",
       "      <td>False</td>\n",
       "      <td>False</td>\n",
       "      <td>False</td>\n",
       "      <td>True</td>\n",
       "      <td>False</td>\n",
       "      <td>False</td>\n",
       "    </tr>\n",
       "    <tr>\n",
       "      <th>2</th>\n",
       "      <td>False</td>\n",
       "      <td>False</td>\n",
       "      <td>False</td>\n",
       "      <td>True</td>\n",
       "      <td>False</td>\n",
       "      <td>False</td>\n",
       "      <td>False</td>\n",
       "      <td>False</td>\n",
       "      <td>False</td>\n",
       "      <td>False</td>\n",
       "      <td>False</td>\n",
       "      <td>False</td>\n",
       "      <td>False</td>\n",
       "      <td>False</td>\n",
       "      <td>False</td>\n",
       "      <td>False</td>\n",
       "      <td>False</td>\n",
       "      <td>True</td>\n",
       "    </tr>\n",
       "    <tr>\n",
       "      <th>3</th>\n",
       "      <td>False</td>\n",
       "      <td>False</td>\n",
       "      <td>False</td>\n",
       "      <td>False</td>\n",
       "      <td>False</td>\n",
       "      <td>False</td>\n",
       "      <td>False</td>\n",
       "      <td>False</td>\n",
       "      <td>False</td>\n",
       "      <td>False</td>\n",
       "      <td>False</td>\n",
       "      <td>False</td>\n",
       "      <td>False</td>\n",
       "      <td>True</td>\n",
       "      <td>False</td>\n",
       "      <td>False</td>\n",
       "      <td>False</td>\n",
       "      <td>True</td>\n",
       "    </tr>\n",
       "    <tr>\n",
       "      <th>4</th>\n",
       "      <td>False</td>\n",
       "      <td>False</td>\n",
       "      <td>False</td>\n",
       "      <td>False</td>\n",
       "      <td>False</td>\n",
       "      <td>False</td>\n",
       "      <td>False</td>\n",
       "      <td>True</td>\n",
       "      <td>False</td>\n",
       "      <td>False</td>\n",
       "      <td>False</td>\n",
       "      <td>False</td>\n",
       "      <td>False</td>\n",
       "      <td>False</td>\n",
       "      <td>False</td>\n",
       "      <td>False</td>\n",
       "      <td>False</td>\n",
       "      <td>True</td>\n",
       "    </tr>\n",
       "    <tr>\n",
       "      <th>...</th>\n",
       "      <td>...</td>\n",
       "      <td>...</td>\n",
       "      <td>...</td>\n",
       "      <td>...</td>\n",
       "      <td>...</td>\n",
       "      <td>...</td>\n",
       "      <td>...</td>\n",
       "      <td>...</td>\n",
       "      <td>...</td>\n",
       "      <td>...</td>\n",
       "      <td>...</td>\n",
       "      <td>...</td>\n",
       "      <td>...</td>\n",
       "      <td>...</td>\n",
       "      <td>...</td>\n",
       "      <td>...</td>\n",
       "      <td>...</td>\n",
       "      <td>...</td>\n",
       "    </tr>\n",
       "    <tr>\n",
       "      <th>811</th>\n",
       "      <td>False</td>\n",
       "      <td>False</td>\n",
       "      <td>False</td>\n",
       "      <td>False</td>\n",
       "      <td>False</td>\n",
       "      <td>False</td>\n",
       "      <td>False</td>\n",
       "      <td>False</td>\n",
       "      <td>False</td>\n",
       "      <td>False</td>\n",
       "      <td>False</td>\n",
       "      <td>False</td>\n",
       "      <td>False</td>\n",
       "      <td>True</td>\n",
       "      <td>False</td>\n",
       "      <td>False</td>\n",
       "      <td>True</td>\n",
       "      <td>False</td>\n",
       "    </tr>\n",
       "    <tr>\n",
       "      <th>812</th>\n",
       "      <td>False</td>\n",
       "      <td>False</td>\n",
       "      <td>False</td>\n",
       "      <td>False</td>\n",
       "      <td>False</td>\n",
       "      <td>False</td>\n",
       "      <td>False</td>\n",
       "      <td>False</td>\n",
       "      <td>True</td>\n",
       "      <td>False</td>\n",
       "      <td>False</td>\n",
       "      <td>False</td>\n",
       "      <td>False</td>\n",
       "      <td>False</td>\n",
       "      <td>False</td>\n",
       "      <td>True</td>\n",
       "      <td>False</td>\n",
       "      <td>False</td>\n",
       "    </tr>\n",
       "    <tr>\n",
       "      <th>813</th>\n",
       "      <td>False</td>\n",
       "      <td>False</td>\n",
       "      <td>False</td>\n",
       "      <td>False</td>\n",
       "      <td>False</td>\n",
       "      <td>False</td>\n",
       "      <td>False</td>\n",
       "      <td>False</td>\n",
       "      <td>False</td>\n",
       "      <td>False</td>\n",
       "      <td>False</td>\n",
       "      <td>False</td>\n",
       "      <td>False</td>\n",
       "      <td>False</td>\n",
       "      <td>True</td>\n",
       "      <td>False</td>\n",
       "      <td>False</td>\n",
       "      <td>True</td>\n",
       "    </tr>\n",
       "    <tr>\n",
       "      <th>814</th>\n",
       "      <td>False</td>\n",
       "      <td>False</td>\n",
       "      <td>True</td>\n",
       "      <td>False</td>\n",
       "      <td>False</td>\n",
       "      <td>False</td>\n",
       "      <td>False</td>\n",
       "      <td>False</td>\n",
       "      <td>False</td>\n",
       "      <td>False</td>\n",
       "      <td>False</td>\n",
       "      <td>False</td>\n",
       "      <td>False</td>\n",
       "      <td>False</td>\n",
       "      <td>False</td>\n",
       "      <td>True</td>\n",
       "      <td>False</td>\n",
       "      <td>False</td>\n",
       "    </tr>\n",
       "    <tr>\n",
       "      <th>815</th>\n",
       "      <td>False</td>\n",
       "      <td>False</td>\n",
       "      <td>False</td>\n",
       "      <td>False</td>\n",
       "      <td>False</td>\n",
       "      <td>False</td>\n",
       "      <td>False</td>\n",
       "      <td>False</td>\n",
       "      <td>True</td>\n",
       "      <td>False</td>\n",
       "      <td>False</td>\n",
       "      <td>False</td>\n",
       "      <td>False</td>\n",
       "      <td>False</td>\n",
       "      <td>False</td>\n",
       "      <td>False</td>\n",
       "      <td>False</td>\n",
       "      <td>True</td>\n",
       "    </tr>\n",
       "  </tbody>\n",
       "</table>\n",
       "<p>816 rows × 18 columns</p>\n",
       "</div>"
      ],
      "text/plain": [
       "     winner_Chennai Super Kings  winner_Deccan Chargers  \\\n",
       "0                         False                   False   \n",
       "1                          True                   False   \n",
       "2                         False                   False   \n",
       "3                         False                   False   \n",
       "4                         False                   False   \n",
       "..                          ...                     ...   \n",
       "811                       False                   False   \n",
       "812                       False                   False   \n",
       "813                       False                   False   \n",
       "814                       False                   False   \n",
       "815                       False                   False   \n",
       "\n",
       "     winner_Delhi Capitals  winner_Delhi Daredevils  winner_Gujarat Lions  \\\n",
       "0                    False                    False                 False   \n",
       "1                    False                    False                 False   \n",
       "2                    False                     True                 False   \n",
       "3                    False                    False                 False   \n",
       "4                    False                    False                 False   \n",
       "..                     ...                      ...                   ...   \n",
       "811                  False                    False                 False   \n",
       "812                  False                    False                 False   \n",
       "813                  False                    False                 False   \n",
       "814                   True                    False                 False   \n",
       "815                  False                    False                 False   \n",
       "\n",
       "     winner_Kings XI Punjab  winner_Kochi Tuskers Kerala  \\\n",
       "0                     False                        False   \n",
       "1                     False                        False   \n",
       "2                     False                        False   \n",
       "3                     False                        False   \n",
       "4                     False                        False   \n",
       "..                      ...                          ...   \n",
       "811                   False                        False   \n",
       "812                   False                        False   \n",
       "813                   False                        False   \n",
       "814                   False                        False   \n",
       "815                   False                        False   \n",
       "\n",
       "     winner_Kolkata Knight Riders  winner_Mumbai Indians  \\\n",
       "0                            True                  False   \n",
       "1                           False                  False   \n",
       "2                           False                  False   \n",
       "3                           False                  False   \n",
       "4                            True                  False   \n",
       "..                            ...                    ...   \n",
       "811                         False                  False   \n",
       "812                         False                   True   \n",
       "813                         False                  False   \n",
       "814                         False                  False   \n",
       "815                         False                   True   \n",
       "\n",
       "     winner_Pune Warriors  winner_Rajasthan Royals  \\\n",
       "0                   False                    False   \n",
       "1                   False                    False   \n",
       "2                   False                    False   \n",
       "3                   False                    False   \n",
       "4                   False                    False   \n",
       "..                    ...                      ...   \n",
       "811                 False                    False   \n",
       "812                 False                    False   \n",
       "813                 False                    False   \n",
       "814                 False                    False   \n",
       "815                 False                    False   \n",
       "\n",
       "     winner_Rising Pune Supergiant  winner_Rising Pune Supergiants  \\\n",
       "0                            False                           False   \n",
       "1                            False                           False   \n",
       "2                            False                           False   \n",
       "3                            False                           False   \n",
       "4                            False                           False   \n",
       "..                             ...                             ...   \n",
       "811                          False                           False   \n",
       "812                          False                           False   \n",
       "813                          False                           False   \n",
       "814                          False                           False   \n",
       "815                          False                           False   \n",
       "\n",
       "     winner_Royal Challengers Bangalore  winner_Sunrisers Hyderabad  \\\n",
       "0                                 False                       False   \n",
       "1                                 False                       False   \n",
       "2                                 False                       False   \n",
       "3                                  True                       False   \n",
       "4                                 False                       False   \n",
       "..                                  ...                         ...   \n",
       "811                                True                       False   \n",
       "812                               False                       False   \n",
       "813                               False                        True   \n",
       "814                               False                       False   \n",
       "815                               False                       False   \n",
       "\n",
       "     result_runs  result_tie  result_wickets  \n",
       "0           True       False           False  \n",
       "1           True       False           False  \n",
       "2          False       False            True  \n",
       "3          False       False            True  \n",
       "4          False       False            True  \n",
       "..           ...         ...             ...  \n",
       "811        False        True           False  \n",
       "812         True       False           False  \n",
       "813        False       False            True  \n",
       "814         True       False           False  \n",
       "815        False       False            True  \n",
       "\n",
       "[816 rows x 18 columns]"
      ]
     },
     "execution_count": 30,
     "metadata": {},
     "output_type": "execute_result"
    }
   ],
   "source": [
    "onehot_match_data = pd.get_dummies(match_data[['winner', 'result']])\n",
    "onehot_match_data"
   ]
  },
  {
   "cell_type": "markdown",
   "id": "9f9703f0-f74d-4655-8534-113c82be38c2",
   "metadata": {},
   "source": [
    "### CONCLUSION:- One-hot encoding is used in the above code to create and display the dummy values in the data.The above code converts each category in a categorical variable into a binary vector. It creates new binary columns for Winner and Result columns representing the presence or absence of the data in the category.It simply creates additional features based on the number of unique values in the categorical feature."
   ]
  },
  {
   "cell_type": "code",
   "execution_count": 31,
   "id": "21ac83dc-1cbb-4044-8d6e-38fba29a5f6f",
   "metadata": {
    "tags": []
   },
   "outputs": [
    {
     "data": {
      "text/plain": [
       "pandas.core.frame.DataFrame"
      ]
     },
     "execution_count": 31,
     "metadata": {},
     "output_type": "execute_result"
    }
   ],
   "source": [
    "type(onehot_match_data)"
   ]
  },
  {
   "cell_type": "markdown",
   "id": "3e407192-bb19-464f-8258-8c86e50ed4d8",
   "metadata": {},
   "source": [
    "### Insights:The above code gives the type of the encoded data.The given data is pandas.core.frame.DataFrame type."
   ]
  },
  {
   "cell_type": "markdown",
   "id": "ecdada81-98db-4f0a-8b40-648b04141506",
   "metadata": {},
   "source": [
    "### ANALYZING THE DATASET BY USING 'KURTOSIS' METHOD"
   ]
  },
  {
   "cell_type": "code",
   "execution_count": 47,
   "id": "edf5f3f4",
   "metadata": {},
   "outputs": [
    {
     "data": {
      "text/plain": [
       "1.5845301689911193"
      ]
     },
     "execution_count": 47,
     "metadata": {},
     "output_type": "execute_result"
    }
   ],
   "source": [
    "ball_data['total_runs'].kurt()"
   ]
  },
  {
   "cell_type": "markdown",
   "id": "c7b671b8-931f-4b69-a70a-9ab7bc0504bc",
   "metadata": {},
   "source": [
    "\n",
    "#### CONCLUSION:- The positive kurtosis value 1.5845301689911193 suggests that the distribution of total runs has heavier tails and a sharper peak than a normal distribution. This could indicate that there are some matches where teams scored significantly higher than the average, leading to a more concentrated distribution with a higher likelihood of extreme run totals. Since the kurtosis value is less than 3 it is platykurtic(less peaked)."
   ]
  },
  {
   "cell_type": "code",
   "execution_count": 48,
   "id": "97ee030e",
   "metadata": {},
   "outputs": [
    {
     "data": {
      "text/plain": [
       "1.641151339384591"
      ]
     },
     "execution_count": 48,
     "metadata": {},
     "output_type": "execute_result"
    }
   ],
   "source": [
    "ball_data['batsman_runs'].kurt()"
   ]
  },
  {
   "cell_type": "markdown",
   "id": "1779050d-49fe-41a0-9894-00bf9007e7b2",
   "metadata": {},
   "source": [
    "#### CONCLUSION:- A positive kurtosis value 1.641151339384591 indicates that the distribution of runs scored by individual batsmen has heavier tails and a sharper peak than a normal distribution. This could mean that there are some batsmen who have had exceptionally high-scoring innings, leading to a distribution with a higher likelihood of extreme run totals.Since the kurtosis value is less than 3 it is platykurtic(less peaked)."
   ]
  },
  {
   "cell_type": "markdown",
   "id": "fe6b5950-1411-4b6e-b492-9d9e09c92dec",
   "metadata": {},
   "source": [
    "### USING 'SKEWNESS' METHOD TO ANALYZE THE DATASET:"
   ]
  },
  {
   "cell_type": "code",
   "execution_count": 49,
   "id": "5f5e0e2c",
   "metadata": {},
   "outputs": [
    {
     "data": {
      "text/plain": [
       "8.242735276136468"
      ]
     },
     "execution_count": 49,
     "metadata": {},
     "output_type": "execute_result"
    }
   ],
   "source": [
    "ball_data['extra_runs'].skew()"
   ]
  },
  {
   "cell_type": "code",
   "execution_count": 50,
   "id": "f608c5ca",
   "metadata": {},
   "outputs": [
    {
     "data": {
      "text/plain": [
       "1.5869112546438762"
      ]
     },
     "execution_count": 50,
     "metadata": {},
     "output_type": "execute_result"
    }
   ],
   "source": [
    "ball_data['batsman_runs'].skew()"
   ]
  },
  {
   "cell_type": "code",
   "execution_count": 51,
   "id": "a5d3b5fa",
   "metadata": {},
   "outputs": [
    {
     "data": {
      "text/plain": [
       "1.5575927546902586"
      ]
     },
     "execution_count": 51,
     "metadata": {},
     "output_type": "execute_result"
    }
   ],
   "source": [
    "ball_data['total_runs'].skew()"
   ]
  },
  {
   "cell_type": "markdown",
   "id": "8ef7b208",
   "metadata": {},
   "source": [
    "### CONCLUSION:- Here the skewness of a batsman's runs and the total runs (batsman runs plus extra runs) are nearly equal, but the skewness of extra runs is significantly more positive, it suggests that the distribution of additional runs (extras) is driven by occasional high values, potentially indicating instances of exceptional performance in terms of extras."
   ]
  },
  {
   "cell_type": "markdown",
   "id": "54ff84d2",
   "metadata": {},
   "source": [
    "### To extract year value from date column"
   ]
  },
  {
   "cell_type": "code",
   "execution_count": 12,
   "id": "37a148c9",
   "metadata": {
    "tags": []
   },
   "outputs": [
    {
     "data": {
      "text/html": [
       "<div>\n",
       "<style scoped>\n",
       "    .dataframe tbody tr th:only-of-type {\n",
       "        vertical-align: middle;\n",
       "    }\n",
       "\n",
       "    .dataframe tbody tr th {\n",
       "        vertical-align: top;\n",
       "    }\n",
       "\n",
       "    .dataframe thead th {\n",
       "        text-align: right;\n",
       "    }\n",
       "</style>\n",
       "<table border=\"1\" class=\"dataframe\">\n",
       "  <thead>\n",
       "    <tr style=\"text-align: right;\">\n",
       "      <th></th>\n",
       "      <th>id</th>\n",
       "      <th>city</th>\n",
       "      <th>date</th>\n",
       "      <th>player_of_match</th>\n",
       "      <th>venue</th>\n",
       "      <th>neutral_venue</th>\n",
       "      <th>team1</th>\n",
       "      <th>team2</th>\n",
       "      <th>toss_winner</th>\n",
       "      <th>toss_decision</th>\n",
       "      <th>winner</th>\n",
       "      <th>result</th>\n",
       "      <th>result_margin</th>\n",
       "      <th>eliminator</th>\n",
       "      <th>method</th>\n",
       "      <th>umpire1</th>\n",
       "      <th>umpire2</th>\n",
       "      <th>Season</th>\n",
       "    </tr>\n",
       "  </thead>\n",
       "  <tbody>\n",
       "    <tr>\n",
       "      <th>0</th>\n",
       "      <td>335982</td>\n",
       "      <td>Bangalore</td>\n",
       "      <td>2008-04-18</td>\n",
       "      <td>BB McCullum</td>\n",
       "      <td>M Chinnaswamy Stadium</td>\n",
       "      <td>0</td>\n",
       "      <td>Royal Challengers Bangalore</td>\n",
       "      <td>Kolkata Knight Riders</td>\n",
       "      <td>Royal Challengers Bangalore</td>\n",
       "      <td>field</td>\n",
       "      <td>Kolkata Knight Riders</td>\n",
       "      <td>runs</td>\n",
       "      <td>140.0</td>\n",
       "      <td>N</td>\n",
       "      <td>NaN</td>\n",
       "      <td>Asad Rauf</td>\n",
       "      <td>RE Koertzen</td>\n",
       "      <td>2008</td>\n",
       "    </tr>\n",
       "    <tr>\n",
       "      <th>1</th>\n",
       "      <td>335983</td>\n",
       "      <td>Chandigarh</td>\n",
       "      <td>2008-04-19</td>\n",
       "      <td>MEK Hussey</td>\n",
       "      <td>Punjab Cricket Association Stadium, Mohali</td>\n",
       "      <td>0</td>\n",
       "      <td>Kings XI Punjab</td>\n",
       "      <td>Chennai Super Kings</td>\n",
       "      <td>Chennai Super Kings</td>\n",
       "      <td>bat</td>\n",
       "      <td>Chennai Super Kings</td>\n",
       "      <td>runs</td>\n",
       "      <td>33.0</td>\n",
       "      <td>N</td>\n",
       "      <td>NaN</td>\n",
       "      <td>MR Benson</td>\n",
       "      <td>SL Shastri</td>\n",
       "      <td>2008</td>\n",
       "    </tr>\n",
       "    <tr>\n",
       "      <th>2</th>\n",
       "      <td>335984</td>\n",
       "      <td>Delhi</td>\n",
       "      <td>2008-04-19</td>\n",
       "      <td>MF Maharoof</td>\n",
       "      <td>Feroz Shah Kotla</td>\n",
       "      <td>0</td>\n",
       "      <td>Delhi Daredevils</td>\n",
       "      <td>Rajasthan Royals</td>\n",
       "      <td>Rajasthan Royals</td>\n",
       "      <td>bat</td>\n",
       "      <td>Delhi Daredevils</td>\n",
       "      <td>wickets</td>\n",
       "      <td>9.0</td>\n",
       "      <td>N</td>\n",
       "      <td>NaN</td>\n",
       "      <td>Aleem Dar</td>\n",
       "      <td>GA Pratapkumar</td>\n",
       "      <td>2008</td>\n",
       "    </tr>\n",
       "    <tr>\n",
       "      <th>3</th>\n",
       "      <td>335985</td>\n",
       "      <td>Mumbai</td>\n",
       "      <td>2008-04-20</td>\n",
       "      <td>MV Boucher</td>\n",
       "      <td>Wankhede Stadium</td>\n",
       "      <td>0</td>\n",
       "      <td>Mumbai Indians</td>\n",
       "      <td>Royal Challengers Bangalore</td>\n",
       "      <td>Mumbai Indians</td>\n",
       "      <td>bat</td>\n",
       "      <td>Royal Challengers Bangalore</td>\n",
       "      <td>wickets</td>\n",
       "      <td>5.0</td>\n",
       "      <td>N</td>\n",
       "      <td>NaN</td>\n",
       "      <td>SJ Davis</td>\n",
       "      <td>DJ Harper</td>\n",
       "      <td>2008</td>\n",
       "    </tr>\n",
       "    <tr>\n",
       "      <th>4</th>\n",
       "      <td>335986</td>\n",
       "      <td>Kolkata</td>\n",
       "      <td>2008-04-20</td>\n",
       "      <td>DJ Hussey</td>\n",
       "      <td>Eden Gardens</td>\n",
       "      <td>0</td>\n",
       "      <td>Kolkata Knight Riders</td>\n",
       "      <td>Deccan Chargers</td>\n",
       "      <td>Deccan Chargers</td>\n",
       "      <td>bat</td>\n",
       "      <td>Kolkata Knight Riders</td>\n",
       "      <td>wickets</td>\n",
       "      <td>5.0</td>\n",
       "      <td>N</td>\n",
       "      <td>NaN</td>\n",
       "      <td>BF Bowden</td>\n",
       "      <td>K Hariharan</td>\n",
       "      <td>2008</td>\n",
       "    </tr>\n",
       "  </tbody>\n",
       "</table>\n",
       "</div>"
      ],
      "text/plain": [
       "       id        city        date player_of_match  \\\n",
       "0  335982   Bangalore  2008-04-18     BB McCullum   \n",
       "1  335983  Chandigarh  2008-04-19      MEK Hussey   \n",
       "2  335984       Delhi  2008-04-19     MF Maharoof   \n",
       "3  335985      Mumbai  2008-04-20      MV Boucher   \n",
       "4  335986     Kolkata  2008-04-20       DJ Hussey   \n",
       "\n",
       "                                        venue  neutral_venue  \\\n",
       "0                       M Chinnaswamy Stadium              0   \n",
       "1  Punjab Cricket Association Stadium, Mohali              0   \n",
       "2                            Feroz Shah Kotla              0   \n",
       "3                            Wankhede Stadium              0   \n",
       "4                                Eden Gardens              0   \n",
       "\n",
       "                         team1                        team2  \\\n",
       "0  Royal Challengers Bangalore        Kolkata Knight Riders   \n",
       "1              Kings XI Punjab          Chennai Super Kings   \n",
       "2             Delhi Daredevils             Rajasthan Royals   \n",
       "3               Mumbai Indians  Royal Challengers Bangalore   \n",
       "4        Kolkata Knight Riders              Deccan Chargers   \n",
       "\n",
       "                   toss_winner toss_decision                       winner  \\\n",
       "0  Royal Challengers Bangalore         field        Kolkata Knight Riders   \n",
       "1          Chennai Super Kings           bat          Chennai Super Kings   \n",
       "2             Rajasthan Royals           bat             Delhi Daredevils   \n",
       "3               Mumbai Indians           bat  Royal Challengers Bangalore   \n",
       "4              Deccan Chargers           bat        Kolkata Knight Riders   \n",
       "\n",
       "    result  result_margin eliminator method    umpire1         umpire2  Season  \n",
       "0     runs          140.0          N    NaN  Asad Rauf     RE Koertzen    2008  \n",
       "1     runs           33.0          N    NaN  MR Benson      SL Shastri    2008  \n",
       "2  wickets            9.0          N    NaN  Aleem Dar  GA Pratapkumar    2008  \n",
       "3  wickets            5.0          N    NaN   SJ Davis       DJ Harper    2008  \n",
       "4  wickets            5.0          N    NaN  BF Bowden     K Hariharan    2008  "
      ]
     },
     "execution_count": 12,
     "metadata": {},
     "output_type": "execute_result"
    }
   ],
   "source": [
    "match_data['Season']=pd.DatetimeIndex(match_data['date']).year\n",
    "match_data.head()"
   ]
  },
  {
   "cell_type": "markdown",
   "id": "8ea3285a",
   "metadata": {},
   "source": [
    "### We can see that a column has been created at the last which has the respected years ."
   ]
  },
  {
   "cell_type": "markdown",
   "id": "6983f597",
   "metadata": {},
   "source": [
    "Now lets check the number of matches played each season from 2008 to 2020"
   ]
  },
  {
   "cell_type": "code",
   "execution_count": 13,
   "id": "3cd9cf61",
   "metadata": {
    "tags": []
   },
   "outputs": [
    {
     "data": {
      "text/html": [
       "<div>\n",
       "<style scoped>\n",
       "    .dataframe tbody tr th:only-of-type {\n",
       "        vertical-align: middle;\n",
       "    }\n",
       "\n",
       "    .dataframe tbody tr th {\n",
       "        vertical-align: top;\n",
       "    }\n",
       "\n",
       "    .dataframe thead th {\n",
       "        text-align: right;\n",
       "    }\n",
       "</style>\n",
       "<table border=\"1\" class=\"dataframe\">\n",
       "  <thead>\n",
       "    <tr style=\"text-align: right;\">\n",
       "      <th></th>\n",
       "      <th>Season</th>\n",
       "      <th>matches</th>\n",
       "    </tr>\n",
       "  </thead>\n",
       "  <tbody>\n",
       "    <tr>\n",
       "      <th>0</th>\n",
       "      <td>2008</td>\n",
       "      <td>58</td>\n",
       "    </tr>\n",
       "    <tr>\n",
       "      <th>1</th>\n",
       "      <td>2009</td>\n",
       "      <td>57</td>\n",
       "    </tr>\n",
       "    <tr>\n",
       "      <th>2</th>\n",
       "      <td>2010</td>\n",
       "      <td>60</td>\n",
       "    </tr>\n",
       "    <tr>\n",
       "      <th>3</th>\n",
       "      <td>2011</td>\n",
       "      <td>73</td>\n",
       "    </tr>\n",
       "    <tr>\n",
       "      <th>4</th>\n",
       "      <td>2012</td>\n",
       "      <td>74</td>\n",
       "    </tr>\n",
       "    <tr>\n",
       "      <th>5</th>\n",
       "      <td>2013</td>\n",
       "      <td>76</td>\n",
       "    </tr>\n",
       "    <tr>\n",
       "      <th>6</th>\n",
       "      <td>2014</td>\n",
       "      <td>60</td>\n",
       "    </tr>\n",
       "    <tr>\n",
       "      <th>7</th>\n",
       "      <td>2015</td>\n",
       "      <td>59</td>\n",
       "    </tr>\n",
       "    <tr>\n",
       "      <th>8</th>\n",
       "      <td>2016</td>\n",
       "      <td>60</td>\n",
       "    </tr>\n",
       "    <tr>\n",
       "      <th>9</th>\n",
       "      <td>2017</td>\n",
       "      <td>59</td>\n",
       "    </tr>\n",
       "    <tr>\n",
       "      <th>10</th>\n",
       "      <td>2018</td>\n",
       "      <td>60</td>\n",
       "    </tr>\n",
       "    <tr>\n",
       "      <th>11</th>\n",
       "      <td>2019</td>\n",
       "      <td>60</td>\n",
       "    </tr>\n",
       "    <tr>\n",
       "      <th>12</th>\n",
       "      <td>2020</td>\n",
       "      <td>60</td>\n",
       "    </tr>\n",
       "  </tbody>\n",
       "</table>\n",
       "</div>"
      ],
      "text/plain": [
       "    Season  matches\n",
       "0     2008       58\n",
       "1     2009       57\n",
       "2     2010       60\n",
       "3     2011       73\n",
       "4     2012       74\n",
       "5     2013       76\n",
       "6     2014       60\n",
       "7     2015       59\n",
       "8     2016       60\n",
       "9     2017       59\n",
       "10    2018       60\n",
       "11    2019       60\n",
       "12    2020       60"
      ]
     },
     "execution_count": 13,
     "metadata": {},
     "output_type": "execute_result"
    }
   ],
   "source": [
    "match_per_season = match_data.groupby(['Season'])['id'].count().reset_index().rename(columns={'id':'matches'})\n",
    "match_per_season"
   ]
  },
  {
   "cell_type": "code",
   "execution_count": 14,
   "id": "43e1a8a6",
   "metadata": {
    "tags": []
   },
   "outputs": [
    {
     "data": {
      "text/html": [
       "<div>\n",
       "<style scoped>\n",
       "    .dataframe tbody tr th:only-of-type {\n",
       "        vertical-align: middle;\n",
       "    }\n",
       "\n",
       "    .dataframe tbody tr th {\n",
       "        vertical-align: top;\n",
       "    }\n",
       "\n",
       "    .dataframe thead th {\n",
       "        text-align: right;\n",
       "    }\n",
       "</style>\n",
       "<table border=\"1\" class=\"dataframe\">\n",
       "  <thead>\n",
       "    <tr style=\"text-align: right;\">\n",
       "      <th></th>\n",
       "      <th>Season</th>\n",
       "      <th>inning</th>\n",
       "      <th>over</th>\n",
       "      <th>ball</th>\n",
       "      <th>batsman</th>\n",
       "      <th>non_striker</th>\n",
       "      <th>bowler</th>\n",
       "      <th>batsman_runs</th>\n",
       "      <th>extra_runs</th>\n",
       "      <th>total_runs</th>\n",
       "      <th>non_boundary</th>\n",
       "      <th>is_wicket</th>\n",
       "      <th>dismissal_kind</th>\n",
       "      <th>player_dismissed</th>\n",
       "      <th>fielder</th>\n",
       "      <th>extras_type</th>\n",
       "      <th>batting_team</th>\n",
       "      <th>bowling_team</th>\n",
       "    </tr>\n",
       "  </thead>\n",
       "  <tbody>\n",
       "    <tr>\n",
       "      <th>0</th>\n",
       "      <td>2008</td>\n",
       "      <td>1</td>\n",
       "      <td>6</td>\n",
       "      <td>5</td>\n",
       "      <td>RT Ponting</td>\n",
       "      <td>BB McCullum</td>\n",
       "      <td>AA Noffke</td>\n",
       "      <td>1</td>\n",
       "      <td>0</td>\n",
       "      <td>1</td>\n",
       "      <td>0</td>\n",
       "      <td>0</td>\n",
       "      <td>NaN</td>\n",
       "      <td>NaN</td>\n",
       "      <td>NaN</td>\n",
       "      <td>NaN</td>\n",
       "      <td>Kolkata Knight Riders</td>\n",
       "      <td>Royal Challengers Bangalore</td>\n",
       "    </tr>\n",
       "    <tr>\n",
       "      <th>1</th>\n",
       "      <td>2008</td>\n",
       "      <td>1</td>\n",
       "      <td>6</td>\n",
       "      <td>6</td>\n",
       "      <td>BB McCullum</td>\n",
       "      <td>RT Ponting</td>\n",
       "      <td>AA Noffke</td>\n",
       "      <td>1</td>\n",
       "      <td>0</td>\n",
       "      <td>1</td>\n",
       "      <td>0</td>\n",
       "      <td>0</td>\n",
       "      <td>NaN</td>\n",
       "      <td>NaN</td>\n",
       "      <td>NaN</td>\n",
       "      <td>NaN</td>\n",
       "      <td>Kolkata Knight Riders</td>\n",
       "      <td>Royal Challengers Bangalore</td>\n",
       "    </tr>\n",
       "    <tr>\n",
       "      <th>2</th>\n",
       "      <td>2008</td>\n",
       "      <td>1</td>\n",
       "      <td>7</td>\n",
       "      <td>1</td>\n",
       "      <td>BB McCullum</td>\n",
       "      <td>RT Ponting</td>\n",
       "      <td>Z Khan</td>\n",
       "      <td>0</td>\n",
       "      <td>0</td>\n",
       "      <td>0</td>\n",
       "      <td>0</td>\n",
       "      <td>0</td>\n",
       "      <td>NaN</td>\n",
       "      <td>NaN</td>\n",
       "      <td>NaN</td>\n",
       "      <td>NaN</td>\n",
       "      <td>Kolkata Knight Riders</td>\n",
       "      <td>Royal Challengers Bangalore</td>\n",
       "    </tr>\n",
       "    <tr>\n",
       "      <th>3</th>\n",
       "      <td>2008</td>\n",
       "      <td>1</td>\n",
       "      <td>7</td>\n",
       "      <td>2</td>\n",
       "      <td>BB McCullum</td>\n",
       "      <td>RT Ponting</td>\n",
       "      <td>Z Khan</td>\n",
       "      <td>1</td>\n",
       "      <td>0</td>\n",
       "      <td>1</td>\n",
       "      <td>0</td>\n",
       "      <td>0</td>\n",
       "      <td>NaN</td>\n",
       "      <td>NaN</td>\n",
       "      <td>NaN</td>\n",
       "      <td>NaN</td>\n",
       "      <td>Kolkata Knight Riders</td>\n",
       "      <td>Royal Challengers Bangalore</td>\n",
       "    </tr>\n",
       "    <tr>\n",
       "      <th>4</th>\n",
       "      <td>2008</td>\n",
       "      <td>1</td>\n",
       "      <td>7</td>\n",
       "      <td>3</td>\n",
       "      <td>RT Ponting</td>\n",
       "      <td>BB McCullum</td>\n",
       "      <td>Z Khan</td>\n",
       "      <td>1</td>\n",
       "      <td>0</td>\n",
       "      <td>1</td>\n",
       "      <td>0</td>\n",
       "      <td>0</td>\n",
       "      <td>NaN</td>\n",
       "      <td>NaN</td>\n",
       "      <td>NaN</td>\n",
       "      <td>NaN</td>\n",
       "      <td>Kolkata Knight Riders</td>\n",
       "      <td>Royal Challengers Bangalore</td>\n",
       "    </tr>\n",
       "  </tbody>\n",
       "</table>\n",
       "</div>"
      ],
      "text/plain": [
       "   Season  inning  over  ball      batsman  non_striker     bowler  \\\n",
       "0    2008       1     6     5   RT Ponting  BB McCullum  AA Noffke   \n",
       "1    2008       1     6     6  BB McCullum   RT Ponting  AA Noffke   \n",
       "2    2008       1     7     1  BB McCullum   RT Ponting     Z Khan   \n",
       "3    2008       1     7     2  BB McCullum   RT Ponting     Z Khan   \n",
       "4    2008       1     7     3   RT Ponting  BB McCullum     Z Khan   \n",
       "\n",
       "   batsman_runs  extra_runs  total_runs  non_boundary  is_wicket  \\\n",
       "0             1           0           1             0          0   \n",
       "1             1           0           1             0          0   \n",
       "2             0           0           0             0          0   \n",
       "3             1           0           1             0          0   \n",
       "4             1           0           1             0          0   \n",
       "\n",
       "  dismissal_kind player_dismissed fielder extras_type           batting_team  \\\n",
       "0            NaN              NaN     NaN         NaN  Kolkata Knight Riders   \n",
       "1            NaN              NaN     NaN         NaN  Kolkata Knight Riders   \n",
       "2            NaN              NaN     NaN         NaN  Kolkata Knight Riders   \n",
       "3            NaN              NaN     NaN         NaN  Kolkata Knight Riders   \n",
       "4            NaN              NaN     NaN         NaN  Kolkata Knight Riders   \n",
       "\n",
       "                  bowling_team  \n",
       "0  Royal Challengers Bangalore  \n",
       "1  Royal Challengers Bangalore  \n",
       "2  Royal Challengers Bangalore  \n",
       "3  Royal Challengers Bangalore  \n",
       "4  Royal Challengers Bangalore  "
      ]
     },
     "execution_count": 14,
     "metadata": {},
     "output_type": "execute_result"
    }
   ],
   "source": [
    "season_data=match_data[['id','Season']].merge(ball_data,left_on='id',right_on='id',how='left').drop('id',axis=1)\n",
    "season_data.head()"
   ]
  },
  {
   "cell_type": "markdown",
   "id": "b111bf1e",
   "metadata": {},
   "source": [
    "Added season column to ball dataset"
   ]
  },
  {
   "cell_type": "code",
   "execution_count": 15,
   "id": "3b17296a",
   "metadata": {
    "tags": []
   },
   "outputs": [
    {
     "data": {
      "image/png": "[encoded data removed]",
      "text/plain": [
       "<Figure size 640x480 with 1 Axes>"
      ]
     },
     "metadata": {},
     "output_type": "display_data"
    }
   ],
   "source": [
    "season=season_data.groupby(['Season'])['total_runs'].sum().reset_index()\n",
    "p=season.set_index('Season')\n",
    "ax=plt.axes()\n",
    "ax.set(facecolor=\"grey\")\n",
    "sns.lineplot(data=p,palette=\"magma\")\n",
    "plt.title('Total runs in each season',fontsize=12,fontweight=\"bold\")\n",
    "plt.show()"
   ]
  },
  {
   "cell_type": "markdown",
   "id": "eeac545a",
   "metadata": {},
   "source": [
    "### INSIGHTS:-Generally upward-sloping line indicates an increase in total runs scored over the years, suggesting a rise in the overall scoring rate in IPL matches.\n",
    "### fluctuations or variations in the line, might indicate changes in scoring patterns in specific seasons.\n",
    "###  Plateau or a downward trend, it could suggest stability or a decrease in total runs scored over the years.\n",
    "### From this line graph we can see that the highest runs scored is in 2013 season ."
   ]
  },
  {
   "cell_type": "code",
   "execution_count": 22,
   "id": "b00d627c",
   "metadata": {},
   "outputs": [
    {
     "data": {
      "text/html": [
       "<div>\n",
       "<style scoped>\n",
       "    .dataframe tbody tr th:only-of-type {\n",
       "        vertical-align: middle;\n",
       "    }\n",
       "\n",
       "    .dataframe tbody tr th {\n",
       "        vertical-align: top;\n",
       "    }\n",
       "\n",
       "    .dataframe thead th {\n",
       "        text-align: right;\n",
       "    }\n",
       "</style>\n",
       "<table border=\"1\" class=\"dataframe\">\n",
       "  <thead>\n",
       "    <tr style=\"text-align: right;\">\n",
       "      <th></th>\n",
       "      <th>matches</th>\n",
       "      <th>total_runs</th>\n",
       "      <th>Runs scored per match</th>\n",
       "    </tr>\n",
       "    <tr>\n",
       "      <th>Season</th>\n",
       "      <th></th>\n",
       "      <th></th>\n",
       "      <th></th>\n",
       "    </tr>\n",
       "  </thead>\n",
       "  <tbody>\n",
       "    <tr>\n",
       "      <th>2008</th>\n",
       "      <td>58</td>\n",
       "      <td>17937</td>\n",
       "      <td>309.258621</td>\n",
       "    </tr>\n",
       "    <tr>\n",
       "      <th>2009</th>\n",
       "      <td>57</td>\n",
       "      <td>16320</td>\n",
       "      <td>286.315789</td>\n",
       "    </tr>\n",
       "    <tr>\n",
       "      <th>2010</th>\n",
       "      <td>60</td>\n",
       "      <td>18864</td>\n",
       "      <td>314.400000</td>\n",
       "    </tr>\n",
       "    <tr>\n",
       "      <th>2011</th>\n",
       "      <td>73</td>\n",
       "      <td>21154</td>\n",
       "      <td>289.780822</td>\n",
       "    </tr>\n",
       "    <tr>\n",
       "      <th>2012</th>\n",
       "      <td>74</td>\n",
       "      <td>22453</td>\n",
       "      <td>303.418919</td>\n",
       "    </tr>\n",
       "    <tr>\n",
       "      <th>2013</th>\n",
       "      <td>76</td>\n",
       "      <td>22541</td>\n",
       "      <td>296.592105</td>\n",
       "    </tr>\n",
       "    <tr>\n",
       "      <th>2014</th>\n",
       "      <td>60</td>\n",
       "      <td>18909</td>\n",
       "      <td>315.150000</td>\n",
       "    </tr>\n",
       "    <tr>\n",
       "      <th>2015</th>\n",
       "      <td>59</td>\n",
       "      <td>18332</td>\n",
       "      <td>310.711864</td>\n",
       "    </tr>\n",
       "    <tr>\n",
       "      <th>2016</th>\n",
       "      <td>60</td>\n",
       "      <td>18862</td>\n",
       "      <td>314.366667</td>\n",
       "    </tr>\n",
       "    <tr>\n",
       "      <th>2017</th>\n",
       "      <td>59</td>\n",
       "      <td>18769</td>\n",
       "      <td>318.118644</td>\n",
       "    </tr>\n",
       "    <tr>\n",
       "      <th>2018</th>\n",
       "      <td>60</td>\n",
       "      <td>19901</td>\n",
       "      <td>331.683333</td>\n",
       "    </tr>\n",
       "    <tr>\n",
       "      <th>2019</th>\n",
       "      <td>60</td>\n",
       "      <td>19400</td>\n",
       "      <td>323.333333</td>\n",
       "    </tr>\n",
       "    <tr>\n",
       "      <th>2020</th>\n",
       "      <td>60</td>\n",
       "      <td>19352</td>\n",
       "      <td>322.533333</td>\n",
       "    </tr>\n",
       "  </tbody>\n",
       "</table>\n",
       "</div>"
      ],
      "text/plain": [
       "        matches  total_runs  Runs scored per match\n",
       "Season                                            \n",
       "2008         58       17937             309.258621\n",
       "2009         57       16320             286.315789\n",
       "2010         60       18864             314.400000\n",
       "2011         73       21154             289.780822\n",
       "2012         74       22453             303.418919\n",
       "2013         76       22541             296.592105\n",
       "2014         60       18909             315.150000\n",
       "2015         59       18332             310.711864\n",
       "2016         60       18862             314.366667\n",
       "2017         59       18769             318.118644\n",
       "2018         60       19901             331.683333\n",
       "2019         60       19400             323.333333\n",
       "2020         60       19352             322.533333"
      ]
     },
     "execution_count": 22,
     "metadata": {},
     "output_type": "execute_result"
    }
   ],
   "source": [
    "runs_per_season=pd.concat([match_per_season,season.iloc[:,1]],axis=1)\n",
    "runs_per_season['Runs scored per match']=runs_per_season['total_runs']/runs_per_season['matches']\n",
    "runs_per_season.set_index('Season',inplace=True)\n",
    "runs_per_season"
   ]
  },
  {
   "cell_type": "markdown",
   "id": "7dcd69d2",
   "metadata": {},
   "source": [
    "### Here we calculated runs scored per match"
   ]
  },
  {
   "cell_type": "markdown",
   "id": "266c5f0a",
   "metadata": {},
   "source": [
    "### Lets see which team has won by maximum runs"
   ]
  },
  {
   "cell_type": "code",
   "execution_count": 23,
   "id": "5f62e4f1",
   "metadata": {},
   "outputs": [
    {
     "data": {
      "text/plain": [
       "id                          1082635\n",
       "city                          Delhi\n",
       "date                     2017-05-06\n",
       "player_of_match         LMP Simmons\n",
       "venue              Feroz Shah Kotla\n",
       "neutral_venue                     0\n",
       "team1              Delhi Daredevils\n",
       "team2                Mumbai Indians\n",
       "toss_winner        Delhi Daredevils\n",
       "toss_decision                 field\n",
       "winner               Mumbai Indians\n",
       "result                         runs\n",
       "result_margin                 146.0\n",
       "eliminator                        N\n",
       "method                          NaN\n",
       "umpire1                 Nitin Menon\n",
       "umpire2                   CK Nandan\n",
       "Season                         2017\n",
       "Name: 620, dtype: object"
      ]
     },
     "execution_count": 23,
     "metadata": {},
     "output_type": "execute_result"
    }
   ],
   "source": [
    "match_data.iloc[match_data['result_margin'].idxmax()]"
   ]
  },
  {
   "cell_type": "markdown",
   "id": "610346d5",
   "metadata": {},
   "source": [
    "### So Mumbai Indians won the match by maximum runs ."
   ]
  },
  {
   "cell_type": "markdown",
   "id": "5cecffd3",
   "metadata": {},
   "source": [
    "### Now we will look at the number of tosses won by each team "
   ]
  },
  {
   "cell_type": "code",
   "execution_count": 24,
   "id": "4d19d57b",
   "metadata": {},
   "outputs": [
    {
     "data": {
      "image/png": "[encoded data removed]",
      "text/plain": [
       "<Figure size 640x480 with 1 Axes>"
      ]
     },
     "metadata": {},
     "output_type": "display_data"
    }
   ],
   "source": [
    "toss=match_data['toss_winner'].value_counts()\n",
    "ax=plt.axes()\n",
    "ax.set(facecolor=\"grey\")\n",
    "sns.set(rc={'figure.figsize':(15,10)},style='darkgrid')\n",
    "ax.set_title('No. of tosses won by each team',fontsize=15,fontweight=\"bold\")\n",
    "sns.barplot(y=toss.index,x=toss,orient='h',palette=\"icefire\",saturation=1)\n",
    "plt.xlabel('# of tosses won')\n",
    "plt.ylabel('Teams')\n",
    "plt.show()"
   ]
  },
  {
   "cell_type": "markdown",
   "id": "5e506335",
   "metadata": {},
   "source": [
    "### Analyzing the bar graph can help stakeholders, fans, and analysts understand the toss-winning dynamics and potential strategies adopted by different IPL teams.It can also reveal whether toss wins are evenly distributed among teams or if certain teams consistently win more tosses than others.\n",
    "### MUMBAI INDIANS had won most number of tosses."
   ]
  },
  {
   "cell_type": "markdown",
   "id": "d1d6ed5f",
   "metadata": {},
   "source": [
    "### Toss decision "
   ]
  },
  {
   "cell_type": "code",
   "execution_count": 6,
   "id": "5c501072",
   "metadata": {
    "tags": []
   },
   "outputs": [
    {
     "data": {
      "image/png": "[encoded data removed]",
      "text/plain": [
       "<Figure size 640x480 with 1 Axes>"
      ]
     },
     "metadata": {},
     "output_type": "display_data"
    },
    {
     "data": {
      "text/plain": [
       "<Figure size 600x400 with 0 Axes>"
      ]
     },
     "metadata": {},
     "output_type": "display_data"
    }
   ],
   "source": [
    "temp_series = match_data.toss_decision.value_counts()\n",
    "labels = (np.array(temp_series.index))\n",
    "sizes = (np.array((temp_series / temp_series.sum())*100))\n",
    "colors = ['gold', 'lightskyblue']\n",
    "plt.pie(sizes, labels=labels, colors=colors,\n",
    "        autopct='%1.1f%%', shadow=True, startangle=90)\n",
    "plt.title(\"Toss decision percentage\")\n",
    "plt.figure(figsize=(6, 4))\n",
    "plt.show()"
   ]
  },
  {
   "cell_type": "markdown",
   "id": "62587b7e",
   "metadata": {},
   "source": [
    "### A pie chart representing the toss decision (whether to field or bat) in an IPL  provides a visual summary of the distribution of decisions made by teams after winning the toss.Comparing the sizes of the slices allows you to see if certain decisions are more common than others.The size of each slice corresponds to the percentage of times that decision was made. A pie chart helps understanding the overall pattern of toss decisions in the IPL  and identify any trends or preferences among teams. \n",
    "### Almost 61 % of the toss decisions are made to field first. "
   ]
  },
  {
   "cell_type": "markdown",
   "id": "2eb29b59",
   "metadata": {},
   "source": [
    "### We will now see and analyse toss decision across different seasons;  \n"
   ]
  },
  {
   "cell_type": "code",
   "execution_count": 16,
   "id": "a3719e56",
   "metadata": {
    "tags": []
   },
   "outputs": [
    {
     "data": {
      "image/png": "[encoded data removed]",
      "text/plain": [
       "<Figure size 640x480 with 1 Axes>"
      ]
     },
     "metadata": {},
     "output_type": "display_data"
    }
   ],
   "source": [
    "ax=plt.axes()\n",
    "ax.set(facecolor=\"grey\")\n",
    "sns.countplot(x='Season',hue='toss_decision',data=match_data,palette=\"magma\",saturation=1)\n",
    "plt.xticks(rotation=90,fontsize=10)\n",
    "plt.yticks(fontsize=15)\n",
    "plt.xlabel('\\n Season',fontsize=15)\n",
    "plt.ylabel('Count',fontsize=15)\n",
    "plt.title('Toss decision across seasons',fontsize=12,fontweight=\"bold\")\n",
    "plt.show()"
   ]
  },
  {
   "cell_type": "markdown",
   "id": "394ffaaf",
   "metadata": {},
   "source": [
    "### The bar graph can reveal whether teams tend to choose a particular toss decision consistently across multiple seasons or if there are variations.A consistent trend over seasons may indicate a strategic preference or a team's approach in different conditions.Teams may adjust their toss decisions based on the pitch conditions prevalent during each season.Teams may adjust their toss decisions based on the pitch conditions prevalent during each season.\n",
    "### Here the orange indicate batting and purple indicate fielding.So as an example in 2016 , we can see that majority of times,teams prefer to field first  after winning the toss>"
   ]
  },
  {
   "cell_type": "markdown",
   "id": "b874ec97",
   "metadata": {},
   "source": [
    "### Next up , we will analyse the result "
   ]
  },
  {
   "cell_type": "code",
   "execution_count": 27,
   "id": "6810d20a",
   "metadata": {},
   "outputs": [
    {
     "data": {
      "text/plain": [
       "wickets    435\n",
       "runs       364\n",
       "tie         13\n",
       "Name: result, dtype: int64"
      ]
     },
     "execution_count": 27,
     "metadata": {},
     "output_type": "execute_result"
    }
   ],
   "source": [
    "match_data['result'].value_counts()"
   ]
  },
  {
   "cell_type": "markdown",
   "id": "9d69f261",
   "metadata": {},
   "source": [
    "### There are 13 ties and 435 matches are won by chasing that is by fielding first and 364 matches are won by batting first."
   ]
  },
  {
   "cell_type": "markdown",
   "id": "34b50eae",
   "metadata": {},
   "source": [
    "### To see which stadium is best for winning by wickets "
   ]
  },
  {
   "cell_type": "code",
   "execution_count": 28,
   "id": "38e7391c",
   "metadata": {},
   "outputs": [
    {
     "data": {
      "text/plain": [
       "0    Eden Gardens\n",
       "Name: venue, dtype: object"
      ]
     },
     "execution_count": 28,
     "metadata": {},
     "output_type": "execute_result"
    }
   ],
   "source": [
    "match_data.venue[match_data.result!='runs'].mode()\n"
   ]
  },
  {
   "cell_type": "markdown",
   "id": "4759ae51",
   "metadata": {},
   "source": [
    "### Hence Eden Gardens is the best stadium to win by wickets that is higher chances of winning if you field first."
   ]
  },
  {
   "cell_type": "markdown",
   "id": "db0f5c5e",
   "metadata": {},
   "source": [
    "### To see which stadium is best for winning by runs"
   ]
  },
  {
   "cell_type": "code",
   "execution_count": 29,
   "id": "c071c4ac",
   "metadata": {},
   "outputs": [
    {
     "data": {
      "text/plain": [
       "0    Feroz Shah Kotla\n",
       "Name: venue, dtype: object"
      ]
     },
     "execution_count": 29,
     "metadata": {},
     "output_type": "execute_result"
    }
   ],
   "source": [
    "match_data.venue[match_data.result!='wickets'].mode()"
   ]
  },
  {
   "cell_type": "markdown",
   "id": "47304e7a",
   "metadata": {},
   "source": [
    "### Hence Feroz Shah Kotla is the best stadium for winning by runs that is by batting first."
   ]
  },
  {
   "cell_type": "markdown",
   "id": "4df3149e",
   "metadata": {},
   "source": [
    "### For any given IPL team for (example RCB) in which stadium  did they win the most after winning the toss"
   ]
  },
  {
   "cell_type": "code",
   "execution_count": 30,
   "id": "aa37e2de",
   "metadata": {},
   "outputs": [
    {
     "data": {
      "text/plain": [
       "0    M Chinnaswamy Stadium\n",
       "Name: venue, dtype: object"
      ]
     },
     "execution_count": 30,
     "metadata": {},
     "output_type": "execute_result"
    }
   ],
   "source": [
    "match_data.venue[match_data.toss_winner=='Royal Challengers Bangalore'][match_data.winner=='Royal Challengers Bangalore'].mode()"
   ]
  },
  {
   "cell_type": "markdown",
   "id": "ecdc24ac",
   "metadata": {},
   "source": [
    "### As we can see Chinnaswamy stadium (pretty obivious)is best stadium for RCB in which thy have high chance of winning the match when thy win the toss"
   ]
  },
  {
   "cell_type": "markdown",
   "id": "2a5fea9a",
   "metadata": {},
   "source": [
    "### Talking about RCB , lets see some \"Run Machine\" stats "
   ]
  },
  {
   "cell_type": "code",
   "execution_count": 18,
   "id": "ee3ec73e",
   "metadata": {
    "tags": []
   },
   "outputs": [
    {
     "data": {
      "text/html": [
       "<div>\n",
       "<style scoped>\n",
       "    .dataframe tbody tr th:only-of-type {\n",
       "        vertical-align: middle;\n",
       "    }\n",
       "\n",
       "    .dataframe tbody tr th {\n",
       "        vertical-align: top;\n",
       "    }\n",
       "\n",
       "    .dataframe thead th {\n",
       "        text-align: right;\n",
       "    }\n",
       "</style>\n",
       "<table border=\"1\" class=\"dataframe\">\n",
       "  <thead>\n",
       "    <tr style=\"text-align: right;\">\n",
       "      <th></th>\n",
       "      <th>id</th>\n",
       "      <th>inning</th>\n",
       "      <th>over</th>\n",
       "      <th>ball</th>\n",
       "      <th>batsman</th>\n",
       "      <th>non_striker</th>\n",
       "      <th>bowler</th>\n",
       "      <th>batsman_runs</th>\n",
       "      <th>extra_runs</th>\n",
       "      <th>total_runs</th>\n",
       "      <th>non_boundary</th>\n",
       "      <th>is_wicket</th>\n",
       "      <th>dismissal_kind</th>\n",
       "      <th>player_dismissed</th>\n",
       "      <th>fielder</th>\n",
       "      <th>extras_type</th>\n",
       "      <th>batting_team</th>\n",
       "      <th>bowling_team</th>\n",
       "    </tr>\n",
       "  </thead>\n",
       "  <tbody>\n",
       "    <tr>\n",
       "      <th>211</th>\n",
       "      <td>335982</td>\n",
       "      <td>2</td>\n",
       "      <td>1</td>\n",
       "      <td>2</td>\n",
       "      <td>V Kohli</td>\n",
       "      <td>W Jaffer</td>\n",
       "      <td>I Sharma</td>\n",
       "      <td>0</td>\n",
       "      <td>0</td>\n",
       "      <td>0</td>\n",
       "      <td>0</td>\n",
       "      <td>0</td>\n",
       "      <td>NaN</td>\n",
       "      <td>NaN</td>\n",
       "      <td>NaN</td>\n",
       "      <td>NaN</td>\n",
       "      <td>Royal Challengers Bangalore</td>\n",
       "      <td>Kolkata Knight Riders</td>\n",
       "    </tr>\n",
       "    <tr>\n",
       "      <th>212</th>\n",
       "      <td>335982</td>\n",
       "      <td>2</td>\n",
       "      <td>1</td>\n",
       "      <td>3</td>\n",
       "      <td>V Kohli</td>\n",
       "      <td>W Jaffer</td>\n",
       "      <td>I Sharma</td>\n",
       "      <td>0</td>\n",
       "      <td>4</td>\n",
       "      <td>4</td>\n",
       "      <td>0</td>\n",
       "      <td>0</td>\n",
       "      <td>NaN</td>\n",
       "      <td>NaN</td>\n",
       "      <td>NaN</td>\n",
       "      <td>legbyes</td>\n",
       "      <td>Royal Challengers Bangalore</td>\n",
       "      <td>Kolkata Knight Riders</td>\n",
       "    </tr>\n",
       "    <tr>\n",
       "      <th>213</th>\n",
       "      <td>335982</td>\n",
       "      <td>2</td>\n",
       "      <td>1</td>\n",
       "      <td>4</td>\n",
       "      <td>V Kohli</td>\n",
       "      <td>W Jaffer</td>\n",
       "      <td>I Sharma</td>\n",
       "      <td>1</td>\n",
       "      <td>0</td>\n",
       "      <td>1</td>\n",
       "      <td>0</td>\n",
       "      <td>0</td>\n",
       "      <td>NaN</td>\n",
       "      <td>NaN</td>\n",
       "      <td>NaN</td>\n",
       "      <td>NaN</td>\n",
       "      <td>Royal Challengers Bangalore</td>\n",
       "      <td>Kolkata Knight Riders</td>\n",
       "    </tr>\n",
       "    <tr>\n",
       "      <th>216</th>\n",
       "      <td>335982</td>\n",
       "      <td>2</td>\n",
       "      <td>2</td>\n",
       "      <td>1</td>\n",
       "      <td>V Kohli</td>\n",
       "      <td>W Jaffer</td>\n",
       "      <td>AB Dinda</td>\n",
       "      <td>0</td>\n",
       "      <td>0</td>\n",
       "      <td>0</td>\n",
       "      <td>0</td>\n",
       "      <td>0</td>\n",
       "      <td>NaN</td>\n",
       "      <td>NaN</td>\n",
       "      <td>NaN</td>\n",
       "      <td>NaN</td>\n",
       "      <td>Royal Challengers Bangalore</td>\n",
       "      <td>Kolkata Knight Riders</td>\n",
       "    </tr>\n",
       "    <tr>\n",
       "      <th>217</th>\n",
       "      <td>335982</td>\n",
       "      <td>2</td>\n",
       "      <td>2</td>\n",
       "      <td>2</td>\n",
       "      <td>V Kohli</td>\n",
       "      <td>W Jaffer</td>\n",
       "      <td>AB Dinda</td>\n",
       "      <td>0</td>\n",
       "      <td>0</td>\n",
       "      <td>0</td>\n",
       "      <td>0</td>\n",
       "      <td>1</td>\n",
       "      <td>bowled</td>\n",
       "      <td>V Kohli</td>\n",
       "      <td>NaN</td>\n",
       "      <td>NaN</td>\n",
       "      <td>Royal Challengers Bangalore</td>\n",
       "      <td>Kolkata Knight Riders</td>\n",
       "    </tr>\n",
       "  </tbody>\n",
       "</table>\n",
       "</div>"
      ],
      "text/plain": [
       "         id  inning  over  ball  batsman non_striker    bowler  batsman_runs  \\\n",
       "211  335982       2     1     2  V Kohli    W Jaffer  I Sharma             0   \n",
       "212  335982       2     1     3  V Kohli    W Jaffer  I Sharma             0   \n",
       "213  335982       2     1     4  V Kohli    W Jaffer  I Sharma             1   \n",
       "216  335982       2     2     1  V Kohli    W Jaffer  AB Dinda             0   \n",
       "217  335982       2     2     2  V Kohli    W Jaffer  AB Dinda             0   \n",
       "\n",
       "     extra_runs  total_runs  non_boundary  is_wicket dismissal_kind  \\\n",
       "211           0           0             0          0            NaN   \n",
       "212           4           4             0          0            NaN   \n",
       "213           0           1             0          0            NaN   \n",
       "216           0           0             0          0            NaN   \n",
       "217           0           0             0          1         bowled   \n",
       "\n",
       "    player_dismissed fielder extras_type                 batting_team  \\\n",
       "211              NaN     NaN         NaN  Royal Challengers Bangalore   \n",
       "212              NaN     NaN     legbyes  Royal Challengers Bangalore   \n",
       "213              NaN     NaN         NaN  Royal Challengers Bangalore   \n",
       "216              NaN     NaN         NaN  Royal Challengers Bangalore   \n",
       "217          V Kohli     NaN         NaN  Royal Challengers Bangalore   \n",
       "\n",
       "              bowling_team  \n",
       "211  Kolkata Knight Riders  \n",
       "212  Kolkata Knight Riders  \n",
       "213  Kolkata Knight Riders  \n",
       "216  Kolkata Knight Riders  \n",
       "217  Kolkata Knight Riders  "
      ]
     },
     "execution_count": 18,
     "metadata": {},
     "output_type": "execute_result"
    }
   ],
   "source": [
    "player = (ball_data['batsman']=='V Kohli')\n",
    "df_kohli=ball_data[player]\n",
    "df_kohli.head()\n"
   ]
  },
  {
   "cell_type": "code",
   "execution_count": 19,
   "id": "5cfd1fe6",
   "metadata": {
    "tags": []
   },
   "outputs": [
    {
     "data": {
      "image/png": "[encoded data removed]",
      "text/plain": [
       "<Figure size 640x480 with 1 Axes>"
      ]
     },
     "metadata": {},
     "output_type": "display_data"
    },
    {
     "data": {
      "text/plain": [
       "<Figure size 600x400 with 0 Axes>"
      ]
     },
     "metadata": {},
     "output_type": "display_data"
    }
   ],
   "source": [
    "df_kohli['dismissal_kind'].value_counts().plot.pie(autopct='%1.1f%%',shadow=True,rotatelabels=True)\n",
    "plt.title(\"Dismissal Kind\",fontweight=\"bold\",fontsize=15)\n",
    "plt.figure(figsize=(6, 4))\n",
    "plt.show()"
   ]
  },
  {
   "cell_type": "markdown",
   "id": "61676005",
   "metadata": {},
   "source": [
    "### This tells us that VK has been dismissed by catch majority of times.This is very useful for a player to work on their weakness."
   ]
  },
  {
   "cell_type": "code",
   "execution_count": 33,
   "id": "da582313",
   "metadata": {},
   "outputs": [],
   "source": [
    "def count(df_kohli,runs):\n",
    "    return len(df_kohli[df_kohli['batsman_runs']==runs])*runs"
   ]
  },
  {
   "cell_type": "code",
   "execution_count": 34,
   "id": "481a98f0",
   "metadata": {},
   "outputs": [
    {
     "name": "stdout",
     "output_type": "stream",
     "text": [
      "Runs scored from 1's : 1919\n",
      "Runs scored from 2's : 692\n",
      "Runs scored from 3's : 39\n",
      "Runs scored from 4's : 2016\n",
      "Runs scored from 6's : 1212\n"
     ]
    }
   ],
   "source": [
    "print(\"Runs scored from 1's :\",count(df_kohli,1))\n",
    "print(\"Runs scored from 2's :\",count(df_kohli,2))\n",
    "print(\"Runs scored from 3's :\",count(df_kohli,3))\n",
    "print(\"Runs scored from 4's :\",count(df_kohli,4))\n",
    "print(\"Runs scored from 6's :\",count(df_kohli,6))"
   ]
  },
  {
   "cell_type": "markdown",
   "id": "4601f487",
   "metadata": {},
   "source": [
    "### We can see that Virat Kohli knows the importance of each and every run."
   ]
  },
  {
   "cell_type": "markdown",
   "id": "269a0f9b",
   "metadata": {},
   "source": [
    "### Orange Cap!!!"
   ]
  },
  {
   "cell_type": "code",
   "execution_count": 20,
   "id": "dd2c83d0",
   "metadata": {
    "tags": []
   },
   "outputs": [
    {
     "data": {
      "text/html": [
       "<div>\n",
       "<style scoped>\n",
       "    .dataframe tbody tr th:only-of-type {\n",
       "        vertical-align: middle;\n",
       "    }\n",
       "\n",
       "    .dataframe tbody tr th {\n",
       "        vertical-align: top;\n",
       "    }\n",
       "\n",
       "    .dataframe thead th {\n",
       "        text-align: right;\n",
       "    }\n",
       "</style>\n",
       "<table border=\"1\" class=\"dataframe\">\n",
       "  <thead>\n",
       "    <tr style=\"text-align: right;\">\n",
       "      <th></th>\n",
       "      <th>Batsman</th>\n",
       "      <th>runs</th>\n",
       "    </tr>\n",
       "  </thead>\n",
       "  <tbody>\n",
       "    <tr>\n",
       "      <th>0</th>\n",
       "      <td>V Kohli</td>\n",
       "      <td>5878</td>\n",
       "    </tr>\n",
       "    <tr>\n",
       "      <th>1</th>\n",
       "      <td>SK Raina</td>\n",
       "      <td>5368</td>\n",
       "    </tr>\n",
       "    <tr>\n",
       "      <th>2</th>\n",
       "      <td>DA Warner</td>\n",
       "      <td>5254</td>\n",
       "    </tr>\n",
       "    <tr>\n",
       "      <th>3</th>\n",
       "      <td>RG Sharma</td>\n",
       "      <td>5230</td>\n",
       "    </tr>\n",
       "    <tr>\n",
       "      <th>4</th>\n",
       "      <td>S Dhawan</td>\n",
       "      <td>5197</td>\n",
       "    </tr>\n",
       "    <tr>\n",
       "      <th>5</th>\n",
       "      <td>AB de Villiers</td>\n",
       "      <td>4849</td>\n",
       "    </tr>\n",
       "    <tr>\n",
       "      <th>6</th>\n",
       "      <td>CH Gayle</td>\n",
       "      <td>4772</td>\n",
       "    </tr>\n",
       "    <tr>\n",
       "      <th>7</th>\n",
       "      <td>MS Dhoni</td>\n",
       "      <td>4632</td>\n",
       "    </tr>\n",
       "    <tr>\n",
       "      <th>8</th>\n",
       "      <td>RV Uthappa</td>\n",
       "      <td>4607</td>\n",
       "    </tr>\n",
       "    <tr>\n",
       "      <th>9</th>\n",
       "      <td>G Gambhir</td>\n",
       "      <td>4217</td>\n",
       "    </tr>\n",
       "  </tbody>\n",
       "</table>\n",
       "</div>"
      ],
      "text/plain": [
       "          Batsman  runs\n",
       "0         V Kohli  5878\n",
       "1        SK Raina  5368\n",
       "2       DA Warner  5254\n",
       "3       RG Sharma  5230\n",
       "4        S Dhawan  5197\n",
       "5  AB de Villiers  4849\n",
       "6        CH Gayle  4772\n",
       "7        MS Dhoni  4632\n",
       "8      RV Uthappa  4607\n",
       "9       G Gambhir  4217"
      ]
     },
     "execution_count": 20,
     "metadata": {},
     "output_type": "execute_result"
    }
   ],
   "source": [
    "runs = ball_data.groupby(['batsman'])['batsman_runs'].sum().reset_index()\n",
    "runs.columns = ['Batsman','runs']\n",
    "y=runs.sort_values(by='runs',ascending = False).head(10).reset_index().drop('index',axis=1)\n",
    "y"
   ]
  },
  {
   "cell_type": "markdown",
   "id": "aa0cfe6c",
   "metadata": {},
   "source": [
    "### The Orange Cap is awarded to the highest run-scorer in a particular IPL season. Examining the list of Orange Cap winners over multiple seasons helps identify players who consistently perform well with the bat. It highlights those who have maintained high levels of run-scoring consistency.\n",
    "### So the Orange cap goes to VIRAT KOHLI !!!!"
   ]
  },
  {
   "cell_type": "markdown",
   "id": "14c3a63f",
   "metadata": {},
   "source": [
    "![VK](https://neelgyansagar.in/wp-content/uploads/2023/03/wp-1679241543407.gif)"
   ]
  },
  {
   "cell_type": "markdown",
   "id": "0d73528b",
   "metadata": {},
   "source": [
    "### Lets see this graphically \n"
   ]
  },
  {
   "cell_type": "code",
   "execution_count": 23,
   "id": "a26e52c8-50ff-4e01-9ae6-2b8ec7bfd9e4",
   "metadata": {
    "tags": []
   },
   "outputs": [
    {
     "data": {
      "text/plain": [
       "Text(0.5, 1.0, 'Top 10 run scorers in IPL')"
      ]
     },
     "execution_count": 23,
     "metadata": {},
     "output_type": "execute_result"
    },
    {
     "data": {
      "image/png": "[encoded data removed]",
      "text/plain": [
       "<Figure size 640x480 with 1 Axes>"
      ]
     },
     "metadata": {},
     "output_type": "display_data"
    }
   ],
   "source": [
    "ax=plt.axes()\n",
    "ax.set(facecolor=\"grey\")\n",
    "sns.barplot(x=y['Batsman'],y=y['runs'],palette='rocket',saturation=1)\n",
    "plt.xticks(rotation=90,fontsize=10)\n",
    "plt.yticks(fontsize=10)\n",
    "plt.xlabel('\\n Player',fontsize=15)\n",
    "plt.ylabel('Total Runs',fontsize=15)\n",
    "plt.title('Top 10 run scorers in IPL',fontsize=15,fontweight=\"bold\")"
   ]
  },
  {
   "cell_type": "markdown",
   "id": "277fc2de-2549-4414-8797-b3928b2b1d31",
   "metadata": {},
   "source": [
    "### The bar graph allows you to easily compare the run-scoring performances of the top 10 batsmen in the IPL.Observing the heights of the bars can indicate the consistency and dominance of certain players. A higher bar suggests a player who consistently scores a significant number of runs.The graph can indicate the impact of foreign players among the top run-scorers, highlighting the contribution of overseas players to the league.\n",
    "### The graph is likely to capture the attention of fans, as they can easily identify their favorite players and track their performances in comparison to other top run-scorers.\n",
    "### Virat Kohli is the top most run scorer in the IPL seasons."
   ]
  },
  {
   "cell_type": "markdown",
   "id": "29d195b7",
   "metadata": {},
   "source": [
    "## Most number of  Man Of the Match award"
   ]
  },
  {
   "cell_type": "code",
   "execution_count": 22,
   "id": "1a88883e",
   "metadata": {
    "tags": []
   },
   "outputs": [
    {
     "data": {
      "text/plain": [
       "<Figure size 600x400 with 0 Axes>"
      ]
     },
     "execution_count": 22,
     "metadata": {},
     "output_type": "execute_result"
    },
    {
     "data": {
      "image/png": "[encoded data removed]",
      "text/plain": [
       "<Figure size 640x480 with 1 Axes>"
      ]
     },
     "metadata": {},
     "output_type": "display_data"
    },
    {
     "data": {
      "text/plain": [
       "<Figure size 600x400 with 0 Axes>"
      ]
     },
     "metadata": {},
     "output_type": "display_data"
    }
   ],
   "source": [
    "ax=plt.axes()\n",
    "ax.set(facecolor=\"black\")\n",
    "match_data.player_of_match.value_counts()[:10].plot(kind='bar')\n",
    "plt.xlabel('players')\n",
    "plt.ylabel(\"Count\")\n",
    "plt.title(\"Highest MOM award winners\",fontsize=20,fontweight=\"bold\")\n",
    "plt.figure(figsize=(6, 4))"
   ]
  },
  {
   "cell_type": "markdown",
   "id": "2db08a62",
   "metadata": {},
   "source": [
    "### The bar graph allows you to identify players who have consistently made significant contributions to their team's success, as reflected by winning the Man of the Match award.Players who frequently win the Man of the Match award are likely to be fan favorites. The graph can engage fans and spark discussions about player performances.\n",
    "### AB de Villiers has won most \"MAN OF THE MATCH\" awards."
   ]
  },
  {
   "cell_type": "markdown",
   "id": "172a3a38",
   "metadata": {},
   "source": [
    "### Analysis using Heat map:-"
   ]
  },
  {
   "cell_type": "code",
   "execution_count": 49,
   "id": "dfedae83",
   "metadata": {
    "tags": []
   },
   "outputs": [
    {
     "data": {
      "text/html": [
       "<div>\n",
       "<style scoped>\n",
       "    .dataframe tbody tr th:only-of-type {\n",
       "        vertical-align: middle;\n",
       "    }\n",
       "\n",
       "    .dataframe tbody tr th {\n",
       "        vertical-align: top;\n",
       "    }\n",
       "\n",
       "    .dataframe thead th {\n",
       "        text-align: right;\n",
       "    }\n",
       "</style>\n",
       "<table border=\"1\" class=\"dataframe\">\n",
       "  <thead>\n",
       "    <tr style=\"text-align: right;\">\n",
       "      <th></th>\n",
       "      <th>id</th>\n",
       "      <th>inning</th>\n",
       "      <th>over</th>\n",
       "      <th>ball</th>\n",
       "      <th>batsman_runs</th>\n",
       "      <th>extra_runs</th>\n",
       "      <th>total_runs</th>\n",
       "      <th>non_boundary</th>\n",
       "      <th>is_wicket</th>\n",
       "    </tr>\n",
       "  </thead>\n",
       "  <tbody>\n",
       "    <tr>\n",
       "      <th>id</th>\n",
       "      <td>1.000000</td>\n",
       "      <td>0.000300</td>\n",
       "      <td>0.007874</td>\n",
       "      <td>-0.001956</td>\n",
       "      <td>0.028446</td>\n",
       "      <td>-0.018331</td>\n",
       "      <td>0.024763</td>\n",
       "      <td>0.000249</td>\n",
       "      <td>-0.002822</td>\n",
       "    </tr>\n",
       "    <tr>\n",
       "      <th>inning</th>\n",
       "      <td>0.000300</td>\n",
       "      <td>1.000000</td>\n",
       "      <td>-0.046512</td>\n",
       "      <td>-0.003879</td>\n",
       "      <td>-0.007301</td>\n",
       "      <td>-0.000545</td>\n",
       "      <td>-0.007472</td>\n",
       "      <td>0.001463</td>\n",
       "      <td>-0.000998</td>\n",
       "    </tr>\n",
       "    <tr>\n",
       "      <th>over</th>\n",
       "      <td>0.007874</td>\n",
       "      <td>-0.046512</td>\n",
       "      <td>1.000000</td>\n",
       "      <td>-0.006877</td>\n",
       "      <td>0.086966</td>\n",
       "      <td>-0.001303</td>\n",
       "      <td>0.087345</td>\n",
       "      <td>-0.001185</td>\n",
       "      <td>0.073788</td>\n",
       "    </tr>\n",
       "    <tr>\n",
       "      <th>ball</th>\n",
       "      <td>-0.001956</td>\n",
       "      <td>-0.003879</td>\n",
       "      <td>-0.006877</td>\n",
       "      <td>1.000000</td>\n",
       "      <td>0.007168</td>\n",
       "      <td>-0.002487</td>\n",
       "      <td>0.006693</td>\n",
       "      <td>-0.002156</td>\n",
       "      <td>0.004573</td>\n",
       "    </tr>\n",
       "    <tr>\n",
       "      <th>batsman_runs</th>\n",
       "      <td>0.028446</td>\n",
       "      <td>-0.007301</td>\n",
       "      <td>0.086966</td>\n",
       "      <td>0.007168</td>\n",
       "      <td>1.000000</td>\n",
       "      <td>-0.140883</td>\n",
       "      <td>0.977587</td>\n",
       "      <td>0.019815</td>\n",
       "      <td>-0.170038</td>\n",
       "    </tr>\n",
       "    <tr>\n",
       "      <th>extra_runs</th>\n",
       "      <td>-0.018331</td>\n",
       "      <td>-0.000545</td>\n",
       "      <td>-0.001303</td>\n",
       "      <td>-0.002487</td>\n",
       "      <td>-0.140883</td>\n",
       "      <td>1.000000</td>\n",
       "      <td>0.070707</td>\n",
       "      <td>-0.001777</td>\n",
       "      <td>-0.041352</td>\n",
       "    </tr>\n",
       "    <tr>\n",
       "      <th>total_runs</th>\n",
       "      <td>0.024763</td>\n",
       "      <td>-0.007472</td>\n",
       "      <td>0.087345</td>\n",
       "      <td>0.006693</td>\n",
       "      <td>0.977587</td>\n",
       "      <td>0.070707</td>\n",
       "      <td>1.000000</td>\n",
       "      <td>0.019587</td>\n",
       "      <td>-0.180115</td>\n",
       "    </tr>\n",
       "    <tr>\n",
       "      <th>non_boundary</th>\n",
       "      <td>0.000249</td>\n",
       "      <td>0.001463</td>\n",
       "      <td>-0.001185</td>\n",
       "      <td>-0.002156</td>\n",
       "      <td>0.019815</td>\n",
       "      <td>-0.001777</td>\n",
       "      <td>0.019587</td>\n",
       "      <td>1.000000</td>\n",
       "      <td>-0.002066</td>\n",
       "    </tr>\n",
       "    <tr>\n",
       "      <th>is_wicket</th>\n",
       "      <td>-0.002822</td>\n",
       "      <td>-0.000998</td>\n",
       "      <td>0.073788</td>\n",
       "      <td>0.004573</td>\n",
       "      <td>-0.170038</td>\n",
       "      <td>-0.041352</td>\n",
       "      <td>-0.180115</td>\n",
       "      <td>-0.002066</td>\n",
       "      <td>1.000000</td>\n",
       "    </tr>\n",
       "  </tbody>\n",
       "</table>\n",
       "</div>"
      ],
      "text/plain": [
       "                    id    inning      over      ball  batsman_runs  \\\n",
       "id            1.000000  0.000300  0.007874 -0.001956      0.028446   \n",
       "inning        0.000300  1.000000 -0.046512 -0.003879     -0.007301   \n",
       "over          0.007874 -0.046512  1.000000 -0.006877      0.086966   \n",
       "ball         -0.001956 -0.003879 -0.006877  1.000000      0.007168   \n",
       "batsman_runs  0.028446 -0.007301  0.086966  0.007168      1.000000   \n",
       "extra_runs   -0.018331 -0.000545 -0.001303 -0.002487     -0.140883   \n",
       "total_runs    0.024763 -0.007472  0.087345  0.006693      0.977587   \n",
       "non_boundary  0.000249  0.001463 -0.001185 -0.002156      0.019815   \n",
       "is_wicket    -0.002822 -0.000998  0.073788  0.004573     -0.170038   \n",
       "\n",
       "              extra_runs  total_runs  non_boundary  is_wicket  \n",
       "id             -0.018331    0.024763      0.000249  -0.002822  \n",
       "inning         -0.000545   -0.007472      0.001463  -0.000998  \n",
       "over           -0.001303    0.087345     -0.001185   0.073788  \n",
       "ball           -0.002487    0.006693     -0.002156   0.004573  \n",
       "batsman_runs   -0.140883    0.977587      0.019815  -0.170038  \n",
       "extra_runs      1.000000    0.070707     -0.001777  -0.041352  \n",
       "total_runs      0.070707    1.000000      0.019587  -0.180115  \n",
       "non_boundary   -0.001777    0.019587      1.000000  -0.002066  \n",
       "is_wicket      -0.041352   -0.180115     -0.002066   1.000000  "
      ]
     },
     "execution_count": 49,
     "metadata": {},
     "output_type": "execute_result"
    }
   ],
   "source": [
    "df=ball_data.select_dtypes(include=['int64','float64'])\n",
    "df.corr()"
   ]
  },
  {
   "cell_type": "code",
   "execution_count": 58,
   "id": "9c74d6eb",
   "metadata": {
    "tags": []
   },
   "outputs": [
    {
     "data": {
      "text/plain": [
       "Text(0.5, 1.0, 'Mapping Runs: An Over-by-Over Analysis')"
      ]
     },
     "execution_count": 58,
     "metadata": {},
     "output_type": "execute_result"
    },
    {
     "data": {
      "image/png": "[encoded data removed]",
      "text/plain": [
       "<Figure size 800x400 with 2 Axes>"
      ]
     },
     "metadata": {},
     "output_type": "display_data"
    }
   ],
   "source": [
    "plt.figure(figsize=(8, 4))\n",
    "sns.heatmap(df.corr(), annot=True,cmap='Blues')\n",
    "plt.xlabel('total_runs')\n",
    "plt.ylabel('over')\n",
    "plt.title(\"Mapping Runs: An Over-by-Over Analysis\")"
   ]
  },
  {
   "cell_type": "markdown",
   "id": "79ee1ef4",
   "metadata": {},
   "source": [
    "### CONCLUSION:- The purpose of a heatmap is to provide a visual representation of the relative intensity or magnitude of values in a matrix, where colors are used to convey the magnitude of each value.\n",
    "### Darker cells in the heatmap indicate overs where a higher number of total runs were scored. These overs can be considered as scoring hotspots or periods of aggressive batting.\n",
    "### Lighter colors may represent overs where the team is scoring at a slower rate (tight bowling).\n",
    "### Changes in color patterns can reveal shifts in the team's scoring rate. A transition from lighter to darker colors might signify an acceleration in scoring."
   ]
  },
  {
   "cell_type": "markdown",
   "id": "8998f90f",
   "metadata": {},
   "source": [
    "###  We will see relation between total runs and batmans runs "
   ]
  },
  {
   "cell_type": "markdown",
   "id": "1e1608b1-8a83-40e0-a99a-c86cb8c0523b",
   "metadata": {},
   "source": [
    "### ANALYSING DATA USING SCATTER PLOT:-"
   ]
  },
  {
   "cell_type": "code",
   "execution_count": 59,
   "id": "e0f52d99",
   "metadata": {
    "tags": []
   },
   "outputs": [
    {
     "data": {
      "image/png": "[encoded data removed]",
      "text/plain": [
       "<Figure size 640x480 with 1 Axes>"
      ]
     },
     "metadata": {},
     "output_type": "display_data"
    },
    {
     "data": {
      "text/plain": [
       "<Figure size 600x400 with 0 Axes>"
      ]
     },
     "metadata": {},
     "output_type": "display_data"
    }
   ],
   "source": [
    "plt.scatter(ball_data['batsman_runs'],ball_data['total_runs'])\n",
    "plt.ylabel('total_runs')\n",
    "plt.xlabel('batsman_runs')\n",
    "plt.figure(figsize=(6, 4))\n",
    "plt.show()"
   ]
  },
  {
   "cell_type": "markdown",
   "id": "f284385b-86cd-4dc7-b762-4fd169a5121e",
   "metadata": {},
   "source": [
    "### CONCLUSION:-A scatter plot representing the relationship between total runs and batsmen runs in an IPL dataset provides a visual representation of how individual batsmen contribute to their team's overall run total. \n",
    "### Batsmen whose points are both higher and to the right on the plot are considered highly impactful, contributing significantly to both their individual scores and the team's total runs.\n",
    "### The given scatter plot is positive.Positive correlation suggests that as a batsman scores more, the team tends to score more as well.\n",
    "### Outliers on the plot may represent exceptional performances where a batsman has significantly outperformed in terms of individual runs or where the team has achieved an exceptionally high total."
   ]
  },
  {
   "cell_type": "markdown",
   "id": "6ab2e1b1-97e5-4872-9dcc-5dc603de1e52",
   "metadata": {},
   "source": [
    "### ANALYSING DATA USING BOX PLOT:-"
   ]
  },
  {
   "cell_type": "code",
   "execution_count": 60,
   "id": "fc6b11fc",
   "metadata": {
    "tags": []
   },
   "outputs": [
    {
     "data": {
      "image/png": "[encoded data removed]",
      "text/plain": [
       "<Figure size 640x480 with 1 Axes>"
      ]
     },
     "metadata": {},
     "output_type": "display_data"
    },
    {
     "data": {
      "text/plain": [
       "<Figure size 800x400 with 0 Axes>"
      ]
     },
     "metadata": {},
     "output_type": "display_data"
    }
   ],
   "source": [
    "plt.boxplot(ball_data['total_runs'])\n",
    "plt.xlabel('inning')\n",
    "plt.ylabel('total_runs')\n",
    "plt.figure(figsize=(8, 4))\n",
    "plt.show()"
   ]
  },
  {
   "cell_type": "markdown",
   "id": "391afb79",
   "metadata": {},
   "source": [
    "### The box plot of the given data tells us that the median is closer to the upper quartile. There is no box above the median which indicates that the distribution of variability in total runs in the given data is highly negatively skewed.This means that signicant portion of the total runs is dispersed below the median and the lower side is stretched as there are more data points with lower values leading to a negatively skewed distribution.The given dataset has significant number of outliers."
   ]
  },
  {
   "cell_type": "markdown",
   "id": "f2bd4ec6-a5d8-496f-9e3c-269de0a2d037",
   "metadata": {},
   "source": [
    "### ANALYSING DATA USING HISTPLOT:-"
   ]
  },
  {
   "cell_type": "code",
   "execution_count": 61,
   "id": "7f16a639",
   "metadata": {
    "tags": []
   },
   "outputs": [
    {
     "data": {
      "text/plain": [
       "<Figure size 800x400 with 0 Axes>"
      ]
     },
     "execution_count": 61,
     "metadata": {},
     "output_type": "execute_result"
    },
    {
     "data": {
      "image/png": "[encoded data removed]",
      "text/plain": [
       "<Figure size 640x480 with 1 Axes>"
      ]
     },
     "metadata": {},
     "output_type": "display_data"
    },
    {
     "data": {
      "text/plain": [
       "<Figure size 800x400 with 0 Axes>"
      ]
     },
     "metadata": {},
     "output_type": "display_data"
    }
   ],
   "source": [
    "sns.histplot(ball_data['total_runs'], kde = True, bins = 10)\n",
    "plt.figure(figsize=(8, 4))"
   ]
  },
  {
   "cell_type": "markdown",
   "id": "0f95bef6-dc82-4abc-ad0c-6d3c016825d6",
   "metadata": {},
   "source": [
    "### Why to use histplot instead of bargraph?\n",
    "### Histplots are designed to display the frequency distribution of a dataset, showing how often certain ranges of values occur. This is especially useful when dealing with numerical data, such as the distribution of runs scored by players in the IPL.\n",
    "### CONCLUSION:-The histogram displays the distribution of total runs scored, showing the frequency of different ranges or bins of total runs in the dataset.Peaks or high bars in the histogram indicate the most common or frequently occurring total runs scored. These are the values with the highest count.You can observe how often total runs fall within specific ranges or intervals. Extreme values or outliers in the dataset may be visible as tall bars at the edges of the histogram. These bars represent instances of exceptionally high or low total runs."
   ]
  },
  {
   "cell_type": "markdown",
   "id": "ee768870-1b47-4bef-8a01-b1662bc78979",
   "metadata": {},
   "source": [
    "### STRIP PLOT:"
   ]
  },
  {
   "cell_type": "code",
   "execution_count": 63,
   "id": "8f7118aa",
   "metadata": {
    "tags": []
   },
   "outputs": [
    {
     "data": {
      "text/plain": [
       "<Figure size 600x400 with 0 Axes>"
      ]
     },
     "execution_count": 63,
     "metadata": {},
     "output_type": "execute_result"
    },
    {
     "data": {
      "image/png": "[encoded data removed]",
      "text/plain": [
       "<Figure size 640x480 with 1 Axes>"
      ]
     },
     "metadata": {},
     "output_type": "display_data"
    },
    {
     "data": {
      "text/plain": [
       "<Figure size 600x400 with 0 Axes>"
      ]
     },
     "metadata": {},
     "output_type": "display_data"
    }
   ],
   "source": [
    "sns.stripplot(x = 'winner', y = 'result_margin', data = match_data, hue = 'toss_decision', palette = 'spring', dodge = True)\n",
    "plt.xticks(rotation=90,fontsize=10)\n",
    "plt.figure(figsize=(6, 4))\n"
   ]
  },
  {
   "cell_type": "markdown",
   "id": "2367d8d0-4819-428c-ae1a-feebaeefa8b3",
   "metadata": {},
   "source": [
    "### why to use Strip plot instead of scatter plot?\n",
    "### In situations where the dataset is relatively large, strip plots can be more interpretable than scatter plots because they condense the information along the categorical axis, making it easier to discern patterns within each category.\n",
    "###  The strip plot shows the distribution of winners in the dataset, indicating which teams have won matches. The spread and distribution of points along the x-axis provide insights into the competitiveness of matches.Color or marker style differentiation on the strip plot can represent the toss decision (bat or field). This allows you to see if there's a correlation between the toss decision and the winning team or result margin.Outliers in the strip plot may indicate matches where the result margin was unexpectedly high or low compared to typical matches. These points can represent upsets or exceptional performances.The strip plot allows you to compare the performance of different teams in terms of winning matches, result margins, and toss decisions."
   ]
  },
  {
   "cell_type": "markdown",
   "id": "7e24062d-8bc3-4684-bc25-6bdd61fda2b4",
   "metadata": {},
   "source": [
    "### JOINT PLOT:-"
   ]
  },
  {
   "cell_type": "code",
   "execution_count": 72,
   "id": "fd88061d",
   "metadata": {
    "tags": []
   },
   "outputs": [
    {
     "data": {
      "text/plain": [
       "<seaborn.axisgrid.JointGrid at 0x27f8bf860d0>"
      ]
     },
     "execution_count": 72,
     "metadata": {},
     "output_type": "execute_result"
    },
    {
     "data": {
      "image/png": "[encoded data removed]",
      "text/plain": [
       "<Figure size 600x600 with 3 Axes>"
      ]
     },
     "metadata": {},
     "output_type": "display_data"
    }
   ],
   "source": [
    "sns.jointplot(x = 'total_runs', y = 'batsman_runs', data = ball_data, kind = 'reg')\n",
    "\n"
   ]
  },
  {
   "cell_type": "markdown",
   "id": "60a36462-64a6-4179-a5a4-baa1b627131d",
   "metadata": {},
   "source": [
    "### Why to use joint plot instead of scatter plot?\n",
    "### The joint plot typically includes a scatter plot where each point represents a combination of a batsman's runs and the corresponding total runs in a match. A regression line may be included to show the trend in the data.\n",
    "### The joint plot helps you assess the correlation or relationship between the runs scored by individual batsmen and the total runs scored by the team. Positive correlation suggests that as individual batsmen score more, the team tends to score more as well.\n",
    "### If certain batsmen consistently appear in matches where the team scores high, it suggests that the team is dependent on these key batsmen for significant contributions.\n",
    "### The plot allows you to visually evaluate the effectiveness of the overall batting lineup by examining the distribution of runs across different batsmen.\n",
    "### "
   ]
  }
 ],
 "metadata": {
  "kernelspec": {
   "display_name": "Python 3 (ipykernel)",
   "language": "python",
   "name": "python3"
  },
  "language_info": {
   "codemirror_mode": {
    "name": "ipython",
    "version": 3
   },
   "file_extension": ".py",
   "mimetype": "text/x-python",
   "name": "python",
   "nbconvert_exporter": "python",
   "pygments_lexer": "ipython3",
   "version": "3.11.5"
  }
 },
 "nbformat": 4,
 "nbformat_minor": 5
}
